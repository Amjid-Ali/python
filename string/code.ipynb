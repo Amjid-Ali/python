{
 "cells": [
  {
   "cell_type": "markdown",
   "metadata": {},
   "source": [
    "# Strings\n",
    "Strings in python are surrounded by either single quotation marks, or double quotation marks\n",
    "\n",
    "'hello' is the same as \"hello\".\n",
    "\n",
    "You can display a string literal with the print() function"
   ]
  },
  {
   "cell_type": "code",
   "execution_count": 2,
   "metadata": {},
   "outputs": [
    {
     "name": "stdout",
     "output_type": "stream",
     "text": [
      "Hello python\n",
      "Hello python\n"
     ]
    }
   ],
   "source": [
    "print(\"Hello python\")\n",
    "print('Hello python')"
   ]
  },
  {
   "cell_type": "markdown",
   "metadata": {},
   "source": [
    "# Assign String to a Variable\n",
    "Assigning a string to a variable is done with the variable name followed by an equal sign and the string"
   ]
  },
  {
   "cell_type": "code",
   "execution_count": 3,
   "metadata": {},
   "outputs": [
    {
     "name": "stdout",
     "output_type": "stream",
     "text": [
      "python is awesome\n"
     ]
    }
   ],
   "source": [
    "a = \"python is awesome\"\n",
    "print(a)"
   ]
  },
  {
   "cell_type": "markdown",
   "metadata": {},
   "source": [
    "# Multiline Strings\n",
    "You can assign a multiline string to a variable by using three quotes"
   ]
  },
  {
   "cell_type": "code",
   "execution_count": 5,
   "metadata": {},
   "outputs": [
    {
     "name": "stdout",
     "output_type": "stream",
     "text": [
      "Lorem ipsum dolor sit amet,\n",
      "consectetur adipiscing elit,\n",
      "sed do eiusmod tempor incididunt\n",
      "ut labore et dolore magna aliqua.\n",
      "Lorem ipsum dolor sit amet,\n",
      "consectetur adipiscing elit,\n",
      "sed do eiusmod tempor incididunt\n",
      "ut labore et dolore magna aliqua.\n",
      "Lorem ipsum dolor sit amet,\n",
      "consectetur adipiscing elit,\n",
      "sed do eiusmod tempor incididunt\n",
      "ut labore et dolore magna aliqua.\n"
     ]
    }
   ],
   "source": [
    "a = \"\"\"Lorem ipsum dolor sit amet,\n",
    "consectetur adipiscing elit,\n",
    "sed do eiusmod tempor incididunt\n",
    "ut labore et dolore magna aliqua.\"\"\"\n",
    "print(a)\n",
    "\n",
    "\n",
    "# or single quotes\n",
    "a = '''Lorem ipsum dolor sit amet,\n",
    "consectetur adipiscing elit,\n",
    "sed do eiusmod tempor incididunt\n",
    "ut labore et dolore magna aliqua.'''\n",
    "print(a)\n",
    "print(a)"
   ]
  },
  {
   "cell_type": "markdown",
   "metadata": {},
   "source": [
    "# Strings are Arrays\n",
    "Like many other popular programming languages, strings in Python are arrays of bytes representing unicode characters.\n",
    "\n",
    "However, Python does not have a character data type, a single character is simply a string with a length of 1.\n",
    "\n",
    "Square brackets can be used to access elements of the string"
   ]
  },
  {
   "cell_type": "code",
   "execution_count": 6,
   "metadata": {},
   "outputs": [
    {
     "name": "stdout",
     "output_type": "stream",
     "text": [
      "y\n"
     ]
    }
   ],
   "source": [
    "a = \"python is awesome\"\n",
    "print(a[1])"
   ]
  },
  {
   "cell_type": "markdown",
   "metadata": {},
   "source": [
    "# Looping Through a String\n",
    "Since strings are arrays, we can loop through the characters in a string, with a for loop"
   ]
  },
  {
   "cell_type": "code",
   "execution_count": 8,
   "metadata": {},
   "outputs": [
    {
     "name": "stdout",
     "output_type": "stream",
     "text": [
      "p\n",
      "y\n",
      "t\n",
      "h\n",
      "o\n",
      "n\n"
     ]
    }
   ],
   "source": [
    "for x in \"python\":\n",
    "    print(x)"
   ]
  },
  {
   "cell_type": "markdown",
   "metadata": {},
   "source": [
    "# String Length\n",
    "To get the length of a string, use the len() function"
   ]
  },
  {
   "cell_type": "code",
   "execution_count": 9,
   "metadata": {},
   "outputs": [
    {
     "name": "stdout",
     "output_type": "stream",
     "text": [
      "17\n"
     ]
    }
   ],
   "source": [
    "name=\"python is awesome\"\n",
    "print(len(name))"
   ]
  },
  {
   "cell_type": "markdown",
   "metadata": {},
   "source": [
    "# Check String\n",
    "To check if a certain phrase or character is present in a string, we can use the keyword in"
   ]
  },
  {
   "cell_type": "code",
   "execution_count": 12,
   "metadata": {},
   "outputs": [
    {
     "name": "stdout",
     "output_type": "stream",
     "text": [
      "True\n",
      "yes\n"
     ]
    }
   ],
   "source": [
    "name=\"let's check a information in a string through python\"\n",
    "\n",
    "print(\"information\" in name)\n",
    "\n",
    "#  or by if-else\n",
    "\n",
    "if \"information\" in name:\n",
    "    print(\"yes\")"
   ]
  },
  {
   "cell_type": "markdown",
   "metadata": {},
   "source": [
    "# Check if NOT\n",
    "To check if a certain phrase or character is NOT present in a string, we can use the keyword not in"
   ]
  },
  {
   "cell_type": "code",
   "execution_count": 14,
   "metadata": {},
   "outputs": [
    {
     "name": "stdout",
     "output_type": "stream",
     "text": [
      "True\n"
     ]
    }
   ],
   "source": [
    "name=\"there is no not word here\"\n",
    "\n",
    "# print(\"not\" not in name)\n",
    "print(\"information\" not in name)"
   ]
  },
  {
   "cell_type": "code",
   "execution_count": 15,
   "metadata": {},
   "outputs": [
    {
     "name": "stdout",
     "output_type": "stream",
     "text": [
      "No, 'expensive' is NOT present.\n"
     ]
    }
   ],
   "source": [
    "txt = \"The best things in life are free!\"\n",
    "if \"expensive\" not in txt:\n",
    "    print(\"No, 'expensive' is NOT present.\")\n"
   ]
  },
  {
   "cell_type": "code",
   "execution_count": 16,
   "metadata": {},
   "outputs": [],
   "source": [
    "# methods"
   ]
  },
  {
   "cell_type": "markdown",
   "metadata": {},
   "source": [
    "# Slicing\n",
    "You can return a range of characters by using the slice syntax.\n",
    "\n",
    "Specify the start index and the end index, separated by a colon, to return a part of the string"
   ]
  },
  {
   "cell_type": "code",
   "execution_count": 29,
   "metadata": {},
   "outputs": [],
   "source": [
    "name=\"python is awesome\"\n",
    "# print(a[0:3])\n",
    "\n",
    "# a[start:end(but end is not included)]\n",
    "# print(a[:1])\n",
    "\n",
    "\n",
    "# a[start:end:step]\n",
    "# print(a[0::2])\n",
    "\n",
    "\n",
    "# a[start:end:negative(goes from last)]\n",
    "# print(a[::-1])\n"
   ]
  },
  {
   "cell_type": "markdown",
   "metadata": {},
   "source": [
    "# Slice From the Start\n",
    "By leaving out the start index, the range will start at the first character"
   ]
  },
  {
   "cell_type": "code",
   "execution_count": 31,
   "metadata": {},
   "outputs": [
    {
     "name": "stdout",
     "output_type": "stream",
     "text": [
      "pytho\n"
     ]
    }
   ],
   "source": [
    "a = \"python is easy\"\n",
    "print(a[:5])"
   ]
  },
  {
   "cell_type": "markdown",
   "metadata": {},
   "source": [
    "# Slice To the End\n",
    "By leaving out the end index, the range will go to the end"
   ]
  },
  {
   "cell_type": "code",
   "execution_count": 32,
   "metadata": {},
   "outputs": [
    {
     "name": "stdout",
     "output_type": "stream",
     "text": [
      "llo, World!\n"
     ]
    }
   ],
   "source": [
    "b = \"Hello, World!\"\n",
    "print(b[2:])"
   ]
  },
  {
   "cell_type": "markdown",
   "metadata": {},
   "source": [
    "# Negative Indexing\n",
    "Use negative indexes to start the slice from the end of the string:\n",
    "From: \"o\" in \"World!\" (position -5)\n",
    "\n",
    "To, but not included: \n",
    "\"d\" in \"World!\" \n",
    "(position -2)"
   ]
  },
  {
   "cell_type": "code",
   "execution_count": 33,
   "metadata": {},
   "outputs": [
    {
     "name": "stdout",
     "output_type": "stream",
     "text": [
      "amp\n"
     ]
    }
   ],
   "source": [
    "b = \"this is an example\"\n",
    "print(b[-5:-2])"
   ]
  },
  {
   "cell_type": "markdown",
   "metadata": {},
   "source": [
    "# 2 Modify Strings"
   ]
  },
  {
   "cell_type": "markdown",
   "metadata": {},
   "source": [
    "# Upper Case"
   ]
  },
  {
   "cell_type": "code",
   "execution_count": 37,
   "metadata": {},
   "outputs": [
    {
     "name": "stdout",
     "output_type": "stream",
     "text": [
      "PYTHON\n"
     ]
    }
   ],
   "source": [
    "a=\"python\"\n",
    "print(a.upper())"
   ]
  },
  {
   "cell_type": "markdown",
   "metadata": {},
   "source": [
    "# Lower Case"
   ]
  },
  {
   "cell_type": "code",
   "execution_count": 39,
   "metadata": {},
   "outputs": [
    {
     "data": {
      "text/plain": [
       "'python'"
      ]
     },
     "execution_count": 39,
     "metadata": {},
     "output_type": "execute_result"
    }
   ],
   "source": [
    "a=\"python\"\n",
    "\n",
    "# print(a.lower())\n",
    "\n",
    "# \"python\".lower()\n"
   ]
  },
  {
   "cell_type": "markdown",
   "metadata": {},
   "source": [
    "# Remove Whitespace\n",
    "Whitespace is the space before and/or after the actual text, and very often you want to remove this space."
   ]
  },
  {
   "cell_type": "code",
   "execution_count": 42,
   "metadata": {},
   "outputs": [],
   "source": [
    "a=\"python\"\n",
    "\n",
    "# print(a.strip())\n",
    "\n",
    "# \"python is     \".strip()"
   ]
  },
  {
   "cell_type": "markdown",
   "metadata": {},
   "source": [
    "# Replace String"
   ]
  },
  {
   "cell_type": "code",
   "execution_count": 46,
   "metadata": {},
   "outputs": [],
   "source": [
    "a=\"javascript\"\n",
    "\n",
    "# a.replace(\"s\",\"S\")\n",
    "\n",
    "a=\"python\"\n",
    "\n",
    "# a.replace(\"p\",\"P\")\n",
    "\n",
    "a=\"hello\"\n",
    "\n",
    "# a.replace(\"l\",\"L\")"
   ]
  },
  {
   "cell_type": "markdown",
   "metadata": {},
   "source": [
    "# Split String \n",
    "The split() method returns a list where the text between the specified separator becomes the list items."
   ]
  },
  {
   "cell_type": "code",
   "execution_count": 47,
   "metadata": {},
   "outputs": [
    {
     "name": "stdout",
     "output_type": "stream",
     "text": [
      "['python', 'is', 'easy', 'and', 'awesome']\n"
     ]
    }
   ],
   "source": [
    "a=\"python is easy and awesome\"\n",
    "\n",
    "# print(a.split())\n",
    "\n"
   ]
  },
  {
   "cell_type": "markdown",
   "metadata": {},
   "source": [
    "#  string concatenation\n",
    "To concatenate, or combine, two strings you can use the + operator."
   ]
  },
  {
   "cell_type": "code",
   "execution_count": 48,
   "metadata": {},
   "outputs": [
    {
     "name": "stdout",
     "output_type": "stream",
     "text": [
      "HelloWorld\n"
     ]
    }
   ],
   "source": [
    "a = \"Hello\"\n",
    "b = \"World\"\n",
    "c = a + b\n",
    "print(c)"
   ]
  },
  {
   "cell_type": "code",
   "execution_count": 49,
   "metadata": {},
   "outputs": [
    {
     "name": "stdout",
     "output_type": "stream",
     "text": [
      "Hello World\n"
     ]
    }
   ],
   "source": [
    "a = \"Hello\"\n",
    "b = \"World\"\n",
    "c = a + \" \" + b\n",
    "print(c)"
   ]
  },
  {
   "cell_type": "markdown",
   "metadata": {},
   "source": [
    "# string format string"
   ]
  },
  {
   "cell_type": "markdown",
   "metadata": {},
   "source": [
    "# format"
   ]
  },
  {
   "cell_type": "code",
   "execution_count": 5,
   "metadata": {},
   "outputs": [],
   "source": [
    "roll_no=12\n",
    "name=\"Ali\"\n",
    "# print(\"the name of student is {}, roll_no is {}\".format(name,roll_no))\n",
    "\n",
    "# by indexing\n",
    "\n",
    "# print(\"the roll_no is first postion {0}, the name is second {1}\".format(roll_no,name))\n",
    "# print(\"name is second one {1}, the first one is roll_no {0}\".format(roll_no,name))"
   ]
  },
  {
   "cell_type": "markdown",
   "metadata": {},
   "source": [
    "# Escape sequence\n",
    "\n",
    "To insert characters that are illegal in a string, use an escape character.\n",
    "\n",
    "An escape character is a backslash \\ followed by the character you want to insert."
   ]
  },
  {
   "cell_type": "code",
   "execution_count": 8,
   "metadata": {},
   "outputs": [],
   "source": [
    "# print(\"this is \"\"Ali\" house\")\n",
    "\n",
    "# print(\"this is \\\"Ali\\\" house\")"
   ]
  },
  {
   "cell_type": "code",
   "execution_count": 24,
   "metadata": {},
   "outputs": [],
   "source": [
    "# for single quotes\n",
    "\n",
    "# print('this is \\'ali\\' house')"
   ]
  },
  {
   "cell_type": "code",
   "execution_count": 36,
   "metadata": {},
   "outputs": [],
   "source": [
    "# \\\\ for backslash\n",
    "#print(\"name_one\\name_two\")   # it break the line\n",
    "\n",
    "# print(\"name_one\\\\name_two\")\n",
    "\n",
    "\n",
    "# print(\"it\\'s raning\")\n",
    "\n",
    "# print('\"\\\" it is raning')\n",
    "# print('\"\\\\\" it is raning')\n",
    "\n",
    "# print(\"'\\' this is back-slash\")"
   ]
  },
  {
   "cell_type": "code",
   "execution_count": 39,
   "metadata": {},
   "outputs": [],
   "source": [
    "# new line\n",
    "# print(\"this is new line \\nit is in new line\")"
   ]
  },
  {
   "cell_type": "code",
   "execution_count": 43,
   "metadata": {},
   "outputs": [],
   "source": [
    "# return carriage\n",
    "\n",
    "# print(\"hello world\")\n",
    "# print(\"hello\\rworld\")\n",
    "\n",
    "# print(\"this is magic\\r?\")"
   ]
  },
  {
   "cell_type": "code",
   "execution_count": 44,
   "metadata": {},
   "outputs": [
    {
     "name": "stdout",
     "output_type": "stream",
     "text": [
      "this is tab \t means more spaces\n"
     ]
    }
   ],
   "source": [
    "# tab\n",
    "\n",
    "print(\"this is tab \\t means more spaces\")"
   ]
  },
  {
   "cell_type": "code",
   "execution_count": 48,
   "metadata": {},
   "outputs": [],
   "source": [
    "# back_space\n",
    "\n",
    "# print(\"this is \\bbackspace\")"
   ]
  },
  {
   "cell_type": "code",
   "execution_count": 56,
   "metadata": {},
   "outputs": [
    {
     "name": "stdout",
     "output_type": "stream",
     "text": [
      "\f",
      "\n"
     ]
    }
   ],
   "source": [
    "# form feed\n",
    "\"\"\"\n",
    "Form feed is a page-breaking ASCII control character. It forces the printer to eject the current page and to continue printing at the top of another. Often,\n",
    "it will also cause a carriage return. The form feed character code is defined as 12 (0xC in hexadecimal) (..) In the C programming language (and other languages derived from C), the form feed character is represented as '\\f'\n",
    "\"\"\"\n",
    "\n",
    "print(\"\\f\")"
   ]
  },
  {
   "cell_type": "markdown",
   "metadata": {},
   "source": [
    "# string methods\n",
    "Python has a set of built-in methods that you can use on strings."
   ]
  },
  {
   "cell_type": "markdown",
   "metadata": {},
   "source": [
    "# capitalize"
   ]
  },
  {
   "cell_type": "code",
   "execution_count": 58,
   "metadata": {},
   "outputs": [
    {
     "name": "stdout",
     "output_type": "stream",
     "text": [
      "python is awesome\n"
     ]
    }
   ],
   "source": [
    "\n",
    "text=\"python is awesome\""
   ]
  },
  {
   "cell_type": "markdown",
   "metadata": {},
   "source": [
    "# case fold"
   ]
  },
  {
   "cell_type": "code",
   "execution_count": 59,
   "metadata": {},
   "outputs": [
    {
     "name": "stdout",
     "output_type": "stream",
     "text": [
      "python is awesome\n"
     ]
    }
   ],
   "source": [
    "print(text.casefold())"
   ]
  },
  {
   "cell_type": "markdown",
   "metadata": {},
   "source": [
    "# center \n",
    "return a center string"
   ]
  },
  {
   "cell_type": "code",
   "execution_count": 65,
   "metadata": {},
   "outputs": [],
   "source": [
    "# print(text.center(50))\n",
    "\n",
    "# print(text.center(29,\"p\"))"
   ]
  },
  {
   "cell_type": "markdown",
   "metadata": {},
   "source": [
    "# count \n",
    "Returns the number of times a specified value occurs in a string\n",
    "\n",
    "string.count(value, start, end)"
   ]
  },
  {
   "cell_type": "code",
   "execution_count": 73,
   "metadata": {},
   "outputs": [
    {
     "name": "stdout",
     "output_type": "stream",
     "text": [
      "1\n"
     ]
    }
   ],
   "source": [
    "print(text.count(\"python\"))"
   ]
  },
  {
   "cell_type": "markdown",
   "metadata": {},
   "source": [
    "# endwith\n",
    "The endswith() method returns True if the string ends with the specified value, otherwise False\n",
    "\n",
    "string.endswith(value, start, end)"
   ]
  },
  {
   "cell_type": "code",
   "execution_count": 77,
   "metadata": {},
   "outputs": [],
   "source": [
    "# print(text.endswith(\"\"))"
   ]
  },
  {
   "cell_type": "markdown",
   "metadata": {},
   "source": [
    "# expandtab\n",
    "Sets the tab size of the string\n",
    "\n",
    "string.expandtabs(tabsize)\n",
    "\n",
    "Optional. A number specifying the tabsize. Default tabsize is 8"
   ]
  },
  {
   "cell_type": "code",
   "execution_count": 84,
   "metadata": {},
   "outputs": [
    {
     "name": "stdout",
     "output_type": "stream",
     "text": [
      "p       y       t       h       o       n\n"
     ]
    }
   ],
   "source": [
    "new_text=\"p\\ty\\tt\\th\\to\\tn\"\n",
    "# print(new_text.expandtabs(2))\n",
    "# print(new_text.expandtabs(4))\n",
    "print(new_text.expandtabs())"
   ]
  },
  {
   "cell_type": "markdown",
   "metadata": {},
   "source": [
    "# find\n",
    "The find() method finds the first occurrence of the specified value.\n",
    "\n",
    "The find() method returns -1 if the value is not found.\n",
    "\n",
    "The find() method is almost the same as the index() method, the only difference is that the index() method raises an exception if the value is not found\n",
    "\n",
    "string.find(value, start, end)"
   ]
  },
  {
   "cell_type": "code",
   "execution_count": 104,
   "metadata": {},
   "outputs": [],
   "source": [
    "# print(text.find(\"awesome\"))\n",
    "\n",
    "# print(text.find(\"python\"))\n",
    "# print(text.find(\"s\"))\n",
    "\n",
    "# print(text.index(\"q\"))   # this create exception if value is not found\n",
    "# print(text.index(\"t\"))"
   ]
  },
  {
   "cell_type": "markdown",
   "metadata": {},
   "source": [
    "# format"
   ]
  },
  {
   "cell_type": "code",
   "execution_count": 115,
   "metadata": {},
   "outputs": [],
   "source": [
    "# txt = \"For only {price:.2f} dollars!\"\n",
    "# print(txt.format(price = 49))\n",
    "\n",
    "txt1 = \"My name is {fname}, I'm {age}\".format(fname = \"ali\", age = 36)\n",
    "txt2 = \"My name is {0}, I'm {1}\".format(\"John\",36)\n",
    "txt3 = \"My name is {}, I'm {}\".format(\"John\",36)"
   ]
  },
  {
   "cell_type": "code",
   "execution_count": 127,
   "metadata": {},
   "outputs": [
    {
     "name": "stdout",
     "output_type": "stream",
     "text": [
      "The price is INF dollars.\n",
      "The price is inf dollars.\n"
     ]
    }
   ],
   "source": [
    "#Left aligns the result (within the available space)\n",
    "\n",
    "# txt = \"We have {:<3} chickens.\"\n",
    "# print(txt.format(49))\n",
    "\n",
    "\n",
    "# txt = \"We have {:>8} chickens.\"\n",
    "# print(txt.format(49))\n",
    "\n",
    "\n",
    "# txt = \"We have {:^8} chickens.\"\n",
    "# print(txt.format(49))\n",
    "\n",
    "# txt = \"The temperature is between {: } and {: } degrees celsius.\"\n",
    "# print(txt.format(-3, 7))\n",
    "\n",
    "\n",
    "x = float('inf')\n",
    "\n",
    "txt = \"The price is {:F} dollars.\"\n",
    "print(txt.format(x))\n",
    "\n",
    "#same example, but with a lower case f:\n",
    "\n",
    "txt = \"The price is {:f} dollars.\"\n",
    "print(txt.format(x))\n"
   ]
  },
  {
   "cell_type": "markdown",
   "metadata": {},
   "source": [
    "# index \n",
    "The index() method finds the first occurrence of the specified value.\n",
    "\n",
    "The index() method raises an exception if the value is not found.\n",
    "\n",
    "The index() method is almost the same as the find() method, the only difference is that the find() method returns -1 if the value is not found\n",
    "\n",
    "string.index(value, start, end)"
   ]
  },
  {
   "cell_type": "code",
   "execution_count": 129,
   "metadata": {},
   "outputs": [
    {
     "name": "stdout",
     "output_type": "stream",
     "text": [
      "8\n"
     ]
    }
   ],
   "source": [
    "# print(text.index(\"p\"))\n",
    "\n",
    "txt = \"Hello, welcome to my world.\"\n",
    "\n",
    "x = txt.index(\"e\", 5, 10)\n",
    "\n",
    "print(x)"
   ]
  },
  {
   "cell_type": "markdown",
   "metadata": {},
   "source": [
    "# isnum\n",
    "The isalnum() method returns True if all the characters are alphanumeric, meaning alphabet letter (a-z) and numbers (0-9)."
   ]
  },
  {
   "cell_type": "code",
   "execution_count": 132,
   "metadata": {},
   "outputs": [],
   "source": [
    "# print(text.isalnum())"
   ]
  },
  {
   "cell_type": "markdown",
   "metadata": {},
   "source": [
    "# isalpha\n",
    "The isalpha() method returns True if all the characters are alphabet letters (a-z)"
   ]
  },
  {
   "cell_type": "code",
   "execution_count": 142,
   "metadata": {},
   "outputs": [
    {
     "name": "stdout",
     "output_type": "stream",
     "text": [
      "True\n"
     ]
    }
   ],
   "source": [
    "# print(text.isalpha())\n",
    "# print(\"2\".isalpha())\n",
    "\n",
    "txt = \"Company\"\n",
    "x = txt.isalpha()\n",
    "print(x)"
   ]
  },
  {
   "cell_type": "markdown",
   "metadata": {},
   "source": [
    "# is decimal \n",
    "The isdecimal() method returns True if all the characters are decimals (0-9)"
   ]
  },
  {
   "cell_type": "code",
   "execution_count": 147,
   "metadata": {},
   "outputs": [],
   "source": [
    "a = \"\\u0030\" #unicode for 0\n",
    "b = \"\\u0047\" #unicode for G\n",
    "\n",
    "# print(a.isdecimal())\n",
    "# print(b.isdecimal())\n",
    "\n",
    "# print(\"1\".isdecimal())"
   ]
  },
  {
   "cell_type": "markdown",
   "metadata": {},
   "source": [
    "# isdigit\n",
    "The isdigit() method returns True if all the characters are digits, otherwise False"
   ]
  },
  {
   "cell_type": "code",
   "execution_count": 148,
   "metadata": {},
   "outputs": [
    {
     "data": {
      "text/plain": [
       "True"
      ]
     },
     "execution_count": 148,
     "metadata": {},
     "output_type": "execute_result"
    }
   ],
   "source": [
    "a=\"9\"\n",
    "a.isdigit()"
   ]
  },
  {
   "cell_type": "markdown",
   "metadata": {},
   "source": [
    "# identifier\n",
    "The isidentifier() method returns True if the string is a valid identifier, otherwise False.\n",
    "\n",
    "A string is considered a valid identifier if it only contains alphanumeric letters (a-z) and (0-9), or underscores (_). A valid identifier cannot start with a number, or contain any spaces"
   ]
  },
  {
   "cell_type": "code",
   "execution_count": 152,
   "metadata": {},
   "outputs": [],
   "source": [
    "# print(text.isidentifier())\n",
    "\n",
    "a=\"this\"\n",
    "b=\"this1\"\n",
    "# print(a.isidentifier())\n",
    "# print(b.isidentifier())"
   ]
  },
  {
   "cell_type": "markdown",
   "metadata": {},
   "source": [
    "# islower\n",
    "The islower() method returns True if all the characters are in lower case, otherwise False."
   ]
  },
  {
   "cell_type": "code",
   "execution_count": 153,
   "metadata": {},
   "outputs": [
    {
     "name": "stdout",
     "output_type": "stream",
     "text": [
      "True\n"
     ]
    }
   ],
   "source": [
    "\n",
    "txt = \"hello world!\"\n",
    "\n",
    "x = txt.islower()\n",
    "\n",
    "print(x)"
   ]
  },
  {
   "cell_type": "markdown",
   "metadata": {},
   "source": [
    "# isnumeric \n",
    "The isnumeric() method returns True if all the characters are numeric (0-9), otherwise False"
   ]
  },
  {
   "cell_type": "code",
   "execution_count": 154,
   "metadata": {},
   "outputs": [
    {
     "name": "stdout",
     "output_type": "stream",
     "text": [
      "False\n"
     ]
    }
   ],
   "source": [
    "e = \"1.5\"\n",
    "print(e.isnumeric())"
   ]
  },
  {
   "cell_type": "markdown",
   "metadata": {},
   "source": [
    "# ispace\n",
    "The isspace() method returns True if all the characters in a string are whitespaces, otherwise False."
   ]
  },
  {
   "cell_type": "code",
   "execution_count": 157,
   "metadata": {},
   "outputs": [
    {
     "name": "stdout",
     "output_type": "stream",
     "text": [
      "False\n"
     ]
    }
   ],
   "source": [
    "txt=\"  a  \"\n",
    "print(txt.isspace())"
   ]
  },
  {
   "cell_type": "markdown",
   "metadata": {},
   "source": [
    "# title\n",
    "The istitle() method returns True if all words in a text start with a upper case letter, AND the rest of the word are lower case letters, otherwise False"
   ]
  },
  {
   "cell_type": "code",
   "execution_count": 160,
   "metadata": {},
   "outputs": [
    {
     "name": "stdout",
     "output_type": "stream",
     "text": [
      "False\n",
      "True\n"
     ]
    }
   ],
   "source": [
    "a = \"HELLO, AND WELCOME TO MY WORLD\"\n",
    "b = \"Hello\"\n",
    "\n",
    "print(a.istitle())\n",
    "print(b.istitle())"
   ]
  },
  {
   "cell_type": "markdown",
   "metadata": {},
   "source": [
    "# is super\n",
    "The isupper() method returns True if all the characters are in upper case, otherwise False"
   ]
  },
  {
   "cell_type": "code",
   "execution_count": 161,
   "metadata": {},
   "outputs": [
    {
     "name": "stdout",
     "output_type": "stream",
     "text": [
      "False\n",
      "False\n",
      "True\n"
     ]
    }
   ],
   "source": [
    "a = \"Hello World!\"\n",
    "b = \"hello 123\"\n",
    "c = \"MY NAME IS PETER\"\n",
    "\n",
    "print(a.isupper())\n",
    "print(b.isupper())\n",
    "print(c.isupper())"
   ]
  },
  {
   "cell_type": "markdown",
   "metadata": {},
   "source": [
    "# join\n",
    "The join() method takes all items in an iterable and joins them into one string."
   ]
  },
  {
   "cell_type": "code",
   "execution_count": 163,
   "metadata": {},
   "outputs": [
    {
     "data": {
      "text/plain": [
       "'a b c'"
      ]
     },
     "execution_count": 163,
     "metadata": {},
     "output_type": "execute_result"
    }
   ],
   "source": [
    "a=[\"a\",'b','c']\n",
    "\" \".join(a)"
   ]
  },
  {
   "cell_type": "markdown",
   "metadata": {},
   "source": [
    "# isjust\n",
    "The ljust() method will left align the string, using a specified character (space is default) as the fill character"
   ]
  },
  {
   "cell_type": "code",
   "execution_count": 165,
   "metadata": {},
   "outputs": [
    {
     "name": "stdout",
     "output_type": "stream",
     "text": [
      "bananaOOOOOOOOOOOOOO\n"
     ]
    }
   ],
   "source": [
    "txt = \"banana\"\n",
    "\n",
    "x = txt.ljust(20, \"O\")\n",
    "\n",
    "print(x)"
   ]
  },
  {
   "cell_type": "markdown",
   "metadata": {},
   "source": [
    "# isstrip\n",
    "The lstrip() method removes any leading characters (space is the default leading character to remove)"
   ]
  },
  {
   "cell_type": "code",
   "execution_count": 201,
   "metadata": {},
   "outputs": [
    {
     "name": "stdout",
     "output_type": "stream",
     "text": [
      "of all fruits banana    is my favorite\n",
      "banana\n"
     ]
    }
   ],
   "source": [
    "txt = \"     banana   \"\n",
    "x = txt.lstrip()\n",
    "print(\"of all fruits\", x, \"is my favorite\")\n",
    "\n",
    "txt = \",,,,,ssaaww.....banana\"\n",
    "x = txt.lstrip(\",.asw\")\n",
    "print(x)"
   ]
  },
  {
   "cell_type": "markdown",
   "metadata": {},
   "source": [
    "# maketrans\n",
    "The maketrans() method returns a mapping table that can be used with the translate() method to replace specified characters"
   ]
  },
  {
   "cell_type": "code",
   "execution_count": 181,
   "metadata": {},
   "outputs": [
    {
     "name": "stdout",
     "output_type": "stream",
     "text": [
      "Hi mam!\n"
     ]
    }
   ],
   "source": [
    "txt = \"python is awesome\"\n",
    "mytable = txt.maketrans(\"p\", \"j\")\n",
    "# print(txt.translate(mytable))\n",
    "\n",
    "txt = \"Hi Sam!\"\n",
    "x = \"Sam\"\n",
    "y = \"mam\"\n",
    "mytable = txt.maketrans(x, y)\n",
    "print(txt.translate(mytable))"
   ]
  },
  {
   "cell_type": "markdown",
   "metadata": {},
   "source": [
    "# portion\n",
    "The partition() method searches for a specified string, and splits the string into a tuple containing three elements.\n",
    "\n",
    "The first element contains the part before the specified string.\n",
    "\n",
    "The second element contains the specified string.\n",
    "\n",
    "The third element contains the part after the string\n",
    "\n",
    "\n",
    "# if not found\n",
    "\n",
    "If the specified value is not found, the partition() method returns a tuple containing: 1 - the whole string, 2 - an empty string, 3 - an empty string:"
   ]
  },
  {
   "cell_type": "code",
   "execution_count": 185,
   "metadata": {},
   "outputs": [
    {
     "name": "stdout",
     "output_type": "stream",
     "text": [
      "('I could ', 'eat', ' bananas all day')\n"
     ]
    }
   ],
   "source": [
    "txt = \"I could eat bananas all day\"\n",
    "# x = txt.partition(\"apples\")\n",
    "\n",
    "x=txt.partition(\"eat\")\n",
    "print(x)"
   ]
  },
  {
   "cell_type": "markdown",
   "metadata": {},
   "source": [
    "# replace\n",
    "The replace() method replaces a specified phrase with another specified phrase\n",
    "\n",
    "string.replace(oldvalue, newvalue, count)"
   ]
  },
  {
   "cell_type": "code",
   "execution_count": 188,
   "metadata": {},
   "outputs": [],
   "source": [
    "txt = \"one one was a race horse, two two was one too.\"\n",
    "\n",
    "x = txt.replace(\"one\", \"three\")\n",
    "\n",
    "# print(x)\n",
    "\n",
    "# replace the first two occurance\n",
    "txt = \"one one was a race horse, two two was one too.\"\n",
    "\n",
    "x = txt.replace(\"one\", \"three\", 2)\n",
    "\n",
    "# print(x)"
   ]
  },
  {
   "cell_type": "markdown",
   "metadata": {},
   "source": [
    "# refind\n",
    "The rfind() method finds the last occurrence of the specified value.\n",
    "\n",
    "The rfind() method returns -1 if the value is not found.\n",
    "\n",
    "The rfind() method is almost the same as the rindex() method\n",
    "\n",
    "string.rfind(value, start, end)"
   ]
  },
  {
   "cell_type": "code",
   "execution_count": 190,
   "metadata": {},
   "outputs": [
    {
     "name": "stdout",
     "output_type": "stream",
     "text": [
      "8\n"
     ]
    }
   ],
   "source": [
    "txt = \"Hello, welcome to my world.\"\n",
    "x = txt.rfind(\"e\")\n",
    "# print(x)\n",
    "txt = \"Hello, welcome to my world.\"\n",
    "\n",
    "x = txt.rfind(\"e\", 5, 10)\n",
    "\n",
    "print(x)"
   ]
  },
  {
   "cell_type": "markdown",
   "metadata": {},
   "source": [
    "# splitlines\n",
    "The splitlines() method splits a string into a list. The splitting is done at line breaks\n",
    "\n",
    "string.splitlines(keeplinebreaks)"
   ]
  },
  {
   "cell_type": "code",
   "execution_count": 196,
   "metadata": {},
   "outputs": [
    {
     "name": "stdout",
     "output_type": "stream",
     "text": [
      "['Thank you for the music\\n', 'Welcome to the jungle']\n"
     ]
    }
   ],
   "source": [
    "txt = \"Thank you for the music\\nWelcome to the jungle\"\n",
    "\n",
    "# x = txt.splitlines(True)\n",
    "x = txt.splitlines(True)\n",
    "print(x)"
   ]
  },
  {
   "cell_type": "markdown",
   "metadata": {},
   "source": [
    "# startswith\n",
    "The startswith() method returns True if the string starts with the specified value, otherwise False.\n",
    "\n",
    "string.startswith(value, start, end)"
   ]
  },
  {
   "cell_type": "code",
   "execution_count": 198,
   "metadata": {},
   "outputs": [
    {
     "name": "stdout",
     "output_type": "stream",
     "text": [
      "True\n"
     ]
    }
   ],
   "source": [
    "print(text.startswith(\"p\"))"
   ]
  },
  {
   "cell_type": "markdown",
   "metadata": {},
   "source": [
    "# strip\n",
    "The strip() method removes any leading (spaces at the beginning) and trailing (spaces at the end) characters (space is the default leading character to remove)"
   ]
  },
  {
   "cell_type": "code",
   "execution_count": 199,
   "metadata": {},
   "outputs": [
    {
     "name": "stdout",
     "output_type": "stream",
     "text": [
      "banana\n"
     ]
    }
   ],
   "source": [
    "txt = \",,,,,rrttgg.....banana....rrr\"\n",
    "\n",
    "x = txt.strip(\",.grt\")\n",
    "\n",
    "print(x)"
   ]
  },
  {
   "cell_type": "code",
   "execution_count": 202,
   "metadata": {},
   "outputs": [
    {
     "name": "stdout",
     "output_type": "stream",
     "text": [
      "of all fruits banana is my favorite\n"
     ]
    }
   ],
   "source": [
    "txt = \"     banana     \"\n",
    "\n",
    "x = txt.strip()\n",
    "\n",
    "print(\"of all fruits\", x, \"is my favorite\")"
   ]
  },
  {
   "cell_type": "markdown",
   "metadata": {},
   "source": [
    "# swapcase\n",
    "The swapcase() method returns a string where all the upper case letters are lower case and vice versa."
   ]
  },
  {
   "cell_type": "code",
   "execution_count": 203,
   "metadata": {},
   "outputs": [
    {
     "name": "stdout",
     "output_type": "stream",
     "text": [
      "hELLO mY nAME iS peter\n"
     ]
    }
   ],
   "source": [
    "txt = \"Hello My Name Is PETER\"\n",
    "x = txt.swapcase()\n",
    "print(x)"
   ]
  },
  {
   "cell_type": "markdown",
   "metadata": {},
   "source": [
    "# zfill\n",
    "The zfill() method adds zeros (0) at the beginning of the string, until it reaches the specified length.\n",
    "\n",
    "If the value of the len parameter is less than the length of the string, no filling is done"
   ]
  },
  {
   "cell_type": "code",
   "execution_count": 211,
   "metadata": {},
   "outputs": [
    {
     "name": "stdout",
     "output_type": "stream",
     "text": [
      "00000hello\n",
      "welcome to the jungle\n"
     ]
    }
   ],
   "source": [
    "# a = \"hello\"\n",
    "b = \"welcome to the jungle\"\n",
    "# c = \"10.000\"\n",
    "\n",
    "print(a.zfill(10))\n",
    "print(b.zfill(10))\n",
    "# print(c.zfill(10))"
   ]
  },
  {
   "cell_type": "code",
   "execution_count": null,
   "metadata": {},
   "outputs": [],
   "source": []
  }
 ],
 "metadata": {
  "kernelspec": {
   "display_name": "Python 3",
   "language": "python",
   "name": "python3"
  },
  "language_info": {
   "codemirror_mode": {
    "name": "ipython",
    "version": 3
   },
   "file_extension": ".py",
   "mimetype": "text/x-python",
   "name": "python",
   "nbconvert_exporter": "python",
   "pygments_lexer": "ipython3",
   "version": "3.8.5"
  }
 },
 "nbformat": 4,
 "nbformat_minor": 4
}
