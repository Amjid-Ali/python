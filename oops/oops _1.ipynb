{
 "cells": [
  {
   "cell_type": "markdown",
   "metadata": {},
   "source": [
    "# oop"
   ]
  },
  {
   "cell_type": "code",
   "execution_count": 2,
   "metadata": {},
   "outputs": [],
   "source": [
    "class Atm:\n",
    "    def __init__(self):\n",
    "        self.pin=''\n",
    "        self.balance=0\n",
    "        self.menu()\n",
    "    def menu(self):\n",
    "        user_input=input(\"\"\"\n",
    "        Hi how can i help you?\n",
    "        1: press 1 to create pin \n",
    "        2: press 2 to change pin \n",
    "        3: press 3 to check balance\n",
    "        4: press 4 to withdraw\n",
    "        5: Anything else to exit\"\"\")\n",
    "        if user_input==\"1\":\n",
    "            self.create_pin()\n",
    "        elif user_input==\"2\":\n",
    "            self.change_pin()\n",
    "        elif user_input==\"3\":\n",
    "            self.check_balance()\n",
    "        elif user_input==\"4\":\n",
    "            self.withdraw()\n",
    "        else:\n",
    "            print((\"thank you happy life\").capitalize())\n",
    "            exit(0)\n",
    "    def create_pin(self):\n",
    "        user_pin=input(\"Enter your pin\")\n",
    "        self.pin=user_pin\n",
    "        user_balance=int(input(\"enter balance\"))\n",
    "        self.balance=user_balance\n",
    "        print(\"pin created sucessfully!!!!\")\n",
    "        self.menu()\n",
    "    def change_pin(self):\n",
    "        user_old=input(\"enter you old pin\")\n",
    "        if user_old==self.pin:\n",
    "            new_pin=input(\"enter your new pin\")\n",
    "            self.pin=new_pin\n",
    "            print(\"pin changed sucessfully...\")\n",
    "            self.menu()\n",
    "        else:\n",
    "            print(\"the credentials are not matched...\")\n",
    "            self.menu()\n",
    "    def check_balance(self):\n",
    "        pin=input(\"enter your pin\")\n",
    "        if pin==self.pin:\n",
    "            print(\"your balance is : {}\".format(self.balance))\n",
    "            self.menu()\n",
    "        else:\n",
    "            print(\"credentials are matched...\")\n",
    "            self.menu()\n",
    "    def withdraw(self):\n",
    "        pin=input(\"enter your pin\")\n",
    "        if pin==self.pin:\n",
    "            ammount=int(input(\"enter the ammount to withdraw\"))\n",
    "            if ammount <= self.balance:\n",
    "                self.balance=self.balance-ammount\n",
    "                print(\"your new ammount is {}\".format(self.balance))\n",
    "                self.menu()\n",
    "            else: \n",
    "                print(\"not sufficant ammount in your account, kindly recharge your account\")\n",
    "                self.menu()\n",
    "        else:\n",
    "            print(\"credentials are not matched....\")\n",
    "            self.menu()    "
   ]
  },
  {
   "cell_type": "code",
   "execution_count": 2,
   "metadata": {},
   "outputs": [],
   "source": [
    "# obj=Atm()\n",
    "\n",
    "# print(type(obj))"
   ]
  },
  {
   "cell_type": "code",
   "execution_count": 8,
   "metadata": {},
   "outputs": [],
   "source": [
    "class check:\n",
    "    def __init__(self):\n",
    "        print(id(self))\n",
    "    def hi(self):\n",
    "        print(\"he\")"
   ]
  },
  {
   "cell_type": "code",
   "execution_count": 10,
   "metadata": {},
   "outputs": [
    {
     "name": "stdout",
     "output_type": "stream",
     "text": [
      "1988033857136\n"
     ]
    }
   ],
   "source": [
    "c=check()"
   ]
  },
  {
   "cell_type": "code",
   "execution_count": 11,
   "metadata": {},
   "outputs": [
    {
     "data": {
      "text/plain": [
       "1988033857136"
      ]
     },
     "execution_count": 11,
     "metadata": {},
     "output_type": "execute_result"
    }
   ],
   "source": [
    "id(c)"
   ]
  },
  {
   "cell_type": "code",
   "execution_count": 18,
   "metadata": {},
   "outputs": [],
   "source": [
    "# id(c.self)\n",
    "# isinstance(c,check)"
   ]
  },
  {
   "cell_type": "markdown",
   "metadata": {},
   "source": [
    "# own datatype"
   ]
  },
  {
   "cell_type": "code",
   "execution_count": 43,
   "metadata": {},
   "outputs": [],
   "source": [
    "class Fraction:\n",
    "    \"\"\"\n",
    "    own data type by name of Fraction\n",
    "    \"\"\"\n",
    "    def __init__(self,x,y):\n",
    "        self.num=x\n",
    "        self.den=y\n",
    "    # magic method\n",
    "    def __str__(self):\n",
    "        return \"{}/{}\".format(self.num,self.den)\n",
    "    \n",
    "    def __add__(self,other):\n",
    "        new_num=self.num*other.den+other.num*self.den\n",
    "        new_den=self.den*other.den\n",
    "        return \"{}/{}\".format(new_num,new_den)\n",
    "    def __sub__(self,other):\n",
    "        new_num=self.num*other.den-other.num*self.den\n",
    "        new_den=self.den*other.den\n",
    "        return \"{}/{}\".format(new_num,new_den)\n",
    "    def __mul__(self,other):\n",
    "        new_num=self.num*other.num\n",
    "        new_den=self.den*other.den\n",
    "        return \"{}/{}\".format(new_num,new_den)\n",
    "    def __truediv__(self,other):\n",
    "        new_num=self.num*other.den\n",
    "        new_den=self.den*other.num\n",
    "        return \"{}/{}\".format(new_num,new_den)\n",
    "    def convert_to_decimal(self):\n",
    "        return self.num/self.den"
   ]
  },
  {
   "cell_type": "code",
   "execution_count": 41,
   "metadata": {},
   "outputs": [],
   "source": [
    "c=Fraction(3,4)\n",
    "d=Fraction(2,3)"
   ]
  },
  {
   "cell_type": "code",
   "execution_count": 42,
   "metadata": {},
   "outputs": [
    {
     "data": {
      "text/plain": [
       "'1/12'"
      ]
     },
     "execution_count": 42,
     "metadata": {},
     "output_type": "execute_result"
    }
   ],
   "source": [
    "c-d"
   ]
  },
  {
   "cell_type": "markdown",
   "metadata": {},
   "source": [
    "# home work"
   ]
  },
  {
   "cell_type": "code",
   "execution_count": 92,
   "metadata": {},
   "outputs": [],
   "source": [
    "class ATM:\n",
    "    bank_name=\"ABC\"\n",
    "    user_name=None\n",
    "    user_account_number=1234\n",
    "    user_balance=0\n",
    "    credit_count,debit_count=0,0\n",
    "    \n",
    "    def create_account(self,name,balance):\n",
    "        self.user_name=name\n",
    "        self.user_balance=balance\n",
    "        return \"Dear {} your account have been created. your Inital deposit is {}\".format(self.user_name,self.user_balance)\n",
    "    def credit(self,ammount: int):\n",
    "        self.user_balance+=ammount\n",
    "        self.credit_count+=1\n",
    "        return \"{} ammounted has been depoisted in your acccount, your new ammount is {}\".format(ammount,self.user_balance)\n",
    "    def debit(self,ammount: int):\n",
    "        self.user_balance-=ammount\n",
    "        self.debit_count+=1\n",
    "        return \"{} ammounted has been depoisted in your acccount, your new ammount is {}\".format(ammount,self.user_balance)\n",
    "    def __str__(self):\n",
    "        return \"Dear {} , your account number is {}, your current balance is {} \\n Thank you\".format(self.user_name,self.user_account_number, self.user_balance)\n",
    "    def statment(self):\n",
    "        return \"Dear {}, you have requested for bank statment, \\n credit_history  {}, debit_history {}\".format(self.user_name, self.credict_count,self.debit_count)"
   ]
  },
  {
   "cell_type": "code",
   "execution_count": 93,
   "metadata": {},
   "outputs": [],
   "source": [
    "user_one=ATM()"
   ]
  },
  {
   "cell_type": "code",
   "execution_count": 94,
   "metadata": {},
   "outputs": [
    {
     "data": {
      "text/plain": [
       "'100 ammounted has been depoisted in your acccount, your new ammount is 1300'"
      ]
     },
     "execution_count": 94,
     "metadata": {},
     "output_type": "execute_result"
    }
   ],
   "source": [
    "user_one.create_account(\"khan\",1200)\n",
    "\n",
    "user_one.credit(100)"
   ]
  },
  {
   "cell_type": "code",
   "execution_count": 95,
   "metadata": {},
   "outputs": [
    {
     "data": {
      "text/plain": [
       "'100 ammounted has been depoisted in your acccount, your new ammount is 1200'"
      ]
     },
     "execution_count": 95,
     "metadata": {},
     "output_type": "execute_result"
    }
   ],
   "source": [
    "user_one.debit(100)"
   ]
  },
  {
   "cell_type": "code",
   "execution_count": 96,
   "metadata": {},
   "outputs": [
    {
     "name": "stdout",
     "output_type": "stream",
     "text": [
      "Dear khan , your account number is 1234, your current balance is 1200 \n",
      " Thank you\n"
     ]
    }
   ],
   "source": [
    "print(user_one)"
   ]
  },
  {
   "cell_type": "code",
   "execution_count": null,
   "metadata": {},
   "outputs": [],
   "source": [
    "user_one"
   ]
  }
 ],
 "metadata": {
  "kernelspec": {
   "display_name": "Python 3",
   "language": "python",
   "name": "python3"
  },
  "language_info": {
   "codemirror_mode": {
    "name": "ipython",
    "version": 3
   },
   "file_extension": ".py",
   "mimetype": "text/x-python",
   "name": "python",
   "nbconvert_exporter": "python",
   "pygments_lexer": "ipython3",
   "version": "3.8.5"
  }
 },
 "nbformat": 4,
 "nbformat_minor": 5
}
