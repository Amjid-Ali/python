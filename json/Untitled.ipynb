{
 "cells": [
  {
   "cell_type": "markdown",
   "metadata": {},
   "source": [
    "# JSON\n",
    "JSON is a syntax for storing and exchanging data.\n",
    "\n",
    "JSON is text, written with JavaScript object notation"
   ]
  },
  {
   "cell_type": "code",
   "execution_count": 1,
   "metadata": {},
   "outputs": [],
   "source": [
    "import json"
   ]
  },
  {
   "cell_type": "code",
   "execution_count": 6,
   "metadata": {},
   "outputs": [
    {
     "name": "stdout",
     "output_type": "stream",
     "text": [
      "John\n"
     ]
    }
   ],
   "source": [
    "# some JSON:\n",
    "x =  '{ \"name\":\"John\", \"age\":30, \"city\":\"New York\"}'\n",
    "# parse x:\n",
    "y = json.loads(x)\n",
    "print(y[\"name\"])"
   ]
  },
  {
   "cell_type": "markdown",
   "metadata": {},
   "source": [
    "# Convert from Python to JSON\n",
    "If you have a Python object, you can convert it into a JSON string by using the json.dumps() method."
   ]
  },
  {
   "cell_type": "code",
   "execution_count": 10,
   "metadata": {},
   "outputs": [
    {
     "name": "stdout",
     "output_type": "stream",
     "text": [
      "{\"name\": \"John\", \"age\": 30, \"city\": \"New York\"}\n"
     ]
    }
   ],
   "source": [
    "# a Python object (dict):\n",
    "x = {\n",
    "  \"name\": \"John\",\n",
    "  \"age\": 30,\n",
    "  \"city\": \"New York\"\n",
    "}\n",
    "y=json.dumps(x)\n",
    "print(y)"
   ]
  },
  {
   "cell_type": "markdown",
   "metadata": {},
   "source": [
    "# You can convert Python objects of the following types, into JSON strings:\n",
    "\n",
    "- dict\n",
    "- list\n",
    "- tuple\n",
    "- string\n",
    "- int\n",
    "- float\n",
    "- True\n",
    "- False\n",
    "- None"
   ]
  },
  {
   "cell_type": "code",
   "execution_count": 17,
   "metadata": {},
   "outputs": [
    {
     "name": "stdout",
     "output_type": "stream",
     "text": [
      "{\"name\": \"John\", \"age\": 30}\n"
     ]
    }
   ],
   "source": [
    "print(json.dumps({\"name\": \"John\", \"age\": 30}))\n",
    "# print(json.dumps([\"apple\", \"bananas\"]))\n",
    "# print(json.dumps((\"apple\", \"bananas\")))\n",
    "# print(json.dumps(\"hello\"))\n",
    "# print(json.dumps(42))\n",
    "# print(json.dumps(31.76))\n",
    "# print(json.dumps(True))\n",
    "# print(json.dumps(False))\n",
    "# print(json.dumps(None))"
   ]
  },
  {
   "cell_type": "code",
   "execution_count": 19,
   "metadata": {},
   "outputs": [
    {
     "name": "stdout",
     "output_type": "stream",
     "text": [
      "{\"name\": \"John\", \"age\": 30, \"married\": true, \"divorced\": false, \"children\": [\"Ann\", \"Billy\"], \"pets\": null, \"cars\": [{\"model\": \"BMW 230\", \"mpg\": 27.5}, {\"model\": \"Ford Edge\", \"mpg\": 24.1}]}\n"
     ]
    }
   ],
   "source": [
    "x = {\n",
    "  \"name\": \"John\",\n",
    "  \"age\": 30,\n",
    "  \"married\": True,\n",
    "  \"divorced\": False,\n",
    "  \"children\": (\"Ann\",\"Billy\"),\n",
    "  \"pets\": None,\n",
    "  \"cars\": [\n",
    "    {\"model\": \"BMW 230\", \"mpg\": 27.5},\n",
    "    {\"model\": \"Ford Edge\", \"mpg\": 24.1}\n",
    "  ]\n",
    "}\n",
    "\n",
    "# print(json.dumps(x))\n",
    "\n",
    "\n"
   ]
  },
  {
   "cell_type": "code",
   "execution_count": 23,
   "metadata": {},
   "outputs": [
    {
     "name": "stdout",
     "output_type": "stream",
     "text": [
      "{\n",
      "    \"name\": \"John\",\n",
      "    \"age\": 30,\n",
      "    \"married\": true,\n",
      "    \"divorced\": false,\n",
      "    \"children\": [\n",
      "        \"Ann\",\n",
      "        \"Billy\"\n",
      "    ],\n",
      "    \"pets\": null,\n",
      "    \"cars\": [\n",
      "        {\n",
      "            \"model\": \"BMW 230\",\n",
      "            \"mpg\": 27.5\n",
      "        },\n",
      "        {\n",
      "            \"model\": \"Ford Edge\",\n",
      "            \"mpg\": 24.1\n",
      "        }\n",
      "    ]\n",
      "}\n"
     ]
    }
   ],
   "source": [
    "print(json.dumps(x, indent=4))\n",
    "# json.dumps(x, indent=4, separators=(\". \", \" = \"))"
   ]
  },
  {
   "cell_type": "markdown",
   "metadata": {},
   "source": [
    "# Order the Result\n",
    "The json.dumps() method has parameters to order the keys in the result"
   ]
  },
  {
   "cell_type": "code",
   "execution_count": 25,
   "metadata": {},
   "outputs": [
    {
     "name": "stdout",
     "output_type": "stream",
     "text": [
      "{\n",
      "    \"age\": 30,\n",
      "    \"cars\": [\n",
      "        {\n",
      "            \"model\": \"BMW 230\",\n",
      "            \"mpg\": 27.5\n",
      "        },\n",
      "        {\n",
      "            \"model\": \"Ford Edge\",\n",
      "            \"mpg\": 24.1\n",
      "        }\n",
      "    ],\n",
      "    \"children\": [\n",
      "        \"Ann\",\n",
      "        \"Billy\"\n",
      "    ],\n",
      "    \"divorced\": false,\n",
      "    \"married\": true,\n",
      "    \"name\": \"John\",\n",
      "    \"pets\": null\n",
      "}\n"
     ]
    }
   ],
   "source": [
    "print(json.dumps(x, indent=4, sort_keys=True))"
   ]
  },
  {
   "cell_type": "markdown",
   "metadata": {},
   "source": [
    "# json.dump()\n",
    "json.dump() method can be used for writing to JSON file"
   ]
  },
  {
   "cell_type": "code",
   "execution_count": 26,
   "metadata": {},
   "outputs": [],
   "source": [
    "# Python program to write JSON\n",
    "# to a file\n",
    "\n",
    "\n",
    "import json\n",
    "\n",
    "# Data to be written\n",
    "dictionary ={\n",
    "\t\"name\" : \"sathiyajith\",\n",
    "\t\"rollno\" : 56,\n",
    "\t\"cgpa\" : 8.6,\n",
    "\t\"phonenumber\" : \"9976770500\"\n",
    "}\n",
    "\n",
    "with open(\"sample.json\", \"w\") as outfile:\n",
    "\tjson.dump(dictionary, outfile)"
   ]
  },
  {
   "cell_type": "code",
   "execution_count": null,
   "metadata": {},
   "outputs": [],
   "source": []
  }
 ],
 "metadata": {
  "kernelspec": {
   "display_name": "Python 3",
   "language": "python",
   "name": "python3"
  },
  "language_info": {
   "codemirror_mode": {
    "name": "ipython",
    "version": 3
   },
   "file_extension": ".py",
   "mimetype": "text/x-python",
   "name": "python",
   "nbconvert_exporter": "python",
   "pygments_lexer": "ipython3",
   "version": "3.8.5"
  }
 },
 "nbformat": 4,
 "nbformat_minor": 4
}
