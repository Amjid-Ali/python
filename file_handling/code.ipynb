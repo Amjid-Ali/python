{
 "cells": [
  {
   "cell_type": "code",
   "execution_count": 3,
   "metadata": {},
   "outputs": [],
   "source": [
    "# file is not present, and you want to write to it\n",
    "\n",
    "f=open(\"file.txt\",'w')\n",
    "f.write(\"the is written from python\")\n",
    "f.close()"
   ]
  },
  {
   "cell_type": "code",
   "execution_count": 6,
   "metadata": {},
   "outputs": [],
   "source": [
    "# f.write(\"hello\")"
   ]
  },
  {
   "cell_type": "code",
   "execution_count": 7,
   "metadata": {},
   "outputs": [],
   "source": [
    "f=open('file2.txt', 'w')\n",
    "f.write(\"hello world\")\n",
    "f.write(\"\\ni got to the next line\")\n",
    "f.close()"
   ]
  },
  {
   "cell_type": "code",
   "execution_count": 11,
   "metadata": {},
   "outputs": [
    {
     "data": {
      "text/plain": [
       "'hello world\\ni got to the next line'"
      ]
     },
     "execution_count": 11,
     "metadata": {},
     "output_type": "execute_result"
    }
   ],
   "source": [
    "f=open(\"./file2.txt\")\n",
    "f.read()"
   ]
  },
  {
   "cell_type": "code",
   "execution_count": 12,
   "metadata": {},
   "outputs": [],
   "source": [
    "# already present file, writting to that file"
   ]
  },
  {
   "cell_type": "code",
   "execution_count": 13,
   "metadata": {},
   "outputs": [],
   "source": [
    "f=open(\"./file.txt\",'w')\n",
    "f.write(\"this the new file\")\n",
    "f.close()"
   ]
  },
  {
   "cell_type": "code",
   "execution_count": 14,
   "metadata": {},
   "outputs": [],
   "source": [
    "# append mode\n",
    "f=open(\"./file2.txt\",'a')\n",
    "f.write(\"\\nadded the new line\")\n",
    "f.close()"
   ]
  },
  {
   "cell_type": "code",
   "execution_count": 15,
   "metadata": {},
   "outputs": [],
   "source": [
    "# write lines"
   ]
  },
  {
   "cell_type": "code",
   "execution_count": 22,
   "metadata": {},
   "outputs": [],
   "source": [
    "# l=[\"\\nthis is information about the hello world\",\"\\nthis is he\",'\\nhe is she']\n",
    "l=\"\"\"\n",
    "hello this is multiple lines code.\\ni am writting to the file\n",
    "\"\"\"\n",
    "f=open(\"./file2.txt\",'w')\n",
    "f.writelines(l)\n",
    "f.close()"
   ]
  },
  {
   "cell_type": "code",
   "execution_count": 24,
   "metadata": {},
   "outputs": [
    {
     "name": "stdout",
     "output_type": "stream",
     "text": [
      "\n",
      "hello this is multiple lines code.\n",
      "i am writting to the file\n",
      "\n"
     ]
    }
   ],
   "source": [
    "f=open(\"./file2.txt\",'r')\n",
    "print(f.read())\n",
    "f.close()"
   ]
  },
  {
   "cell_type": "code",
   "execution_count": 26,
   "metadata": {},
   "outputs": [
    {
     "name": "stdout",
     "output_type": "stream",
     "text": [
      "hello thi\n"
     ]
    }
   ],
   "source": [
    "# some portion of the file\n",
    "f=open(\"./file2.txt\",'r')\n",
    "print(f.read(10).strip())\n",
    "f.close()"
   ]
  },
  {
   "cell_type": "code",
   "execution_count": 32,
   "metadata": {},
   "outputs": [
    {
     "name": "stdout",
     "output_type": "stream",
     "text": [
      " hello this is multiple lines code. "
     ]
    }
   ],
   "source": [
    "# read line by line\n",
    "# some portion of the file\n",
    "f=open(\"./file2.txt\",'r')\n",
    "print(f.readline().strip(),end=' ')\n",
    "print(f.readline().strip(),end=' ')\n",
    "f.close()"
   ]
  },
  {
   "cell_type": "code",
   "execution_count": 33,
   "metadata": {},
   "outputs": [],
   "source": [
    "# custom code"
   ]
  },
  {
   "cell_type": "code",
   "execution_count": 38,
   "metadata": {},
   "outputs": [
    {
     "name": "stdout",
     "output_type": "stream",
     "text": [
      "\n",
      " hello this is multiple lines code.\n",
      " i am writting to the file\n",
      " "
     ]
    }
   ],
   "source": [
    "f=open(\"./file2.txt\",'r')\n",
    "while True:\n",
    "    data=f.readline()\n",
    "    if data==\"\":\n",
    "        break\n",
    "    else:\n",
    "        print(data,end=' ')\n",
    "f.close()"
   ]
  },
  {
   "cell_type": "code",
   "execution_count": 39,
   "metadata": {},
   "outputs": [],
   "source": [
    "# with is context manager"
   ]
  },
  {
   "cell_type": "code",
   "execution_count": 40,
   "metadata": {},
   "outputs": [],
   "source": [
    "with open(\"./file2.txt\",'w') as f:\n",
    "    f.write(\"this is done\")"
   ]
  },
  {
   "cell_type": "code",
   "execution_count": 42,
   "metadata": {},
   "outputs": [],
   "source": [
    "# f.write(\"a\")"
   ]
  },
  {
   "cell_type": "code",
   "execution_count": 43,
   "metadata": {},
   "outputs": [
    {
     "name": "stdout",
     "output_type": "stream",
     "text": [
      "this is done\n"
     ]
    }
   ],
   "source": [
    "with open(\"./file2.txt\",\"r\") as file:\n",
    "    print(file.read())"
   ]
  },
  {
   "cell_type": "code",
   "execution_count": 48,
   "metadata": {},
   "outputs": [
    {
     "name": "stdout",
     "output_type": "stream",
     "text": [
      "this the n\n",
      "ew file\n"
     ]
    }
   ],
   "source": [
    "with open(\"./file.txt\",'r') as file:\n",
    "    print(file.read(10))\n",
    "    print(file.read(10))"
   ]
  },
  {
   "cell_type": "code",
   "execution_count": 49,
   "metadata": {},
   "outputs": [],
   "source": [
    "big=[\"hello world\" for  i in range(1000)]\n",
    "\n",
    "with open('big.txt','w') as file:\n",
    "    file.writelines(big)"
   ]
  },
  {
   "cell_type": "code",
   "execution_count": 53,
   "metadata": {},
   "outputs": [
    {
     "name": "stdout",
     "output_type": "stream",
     "text": [
      "dhello wor orldhello  o worldhel ello world ldhello wo worldhello lo worldhe hello worl rldhello w  worldhell llo worldh dhello wor orldhello  o worldhel ello world ldhello wo worldhello lo worldhe hello worl rldhello w  worldhell llo worldh dhello wor orldhello  o worldhel ello world ldhello wo worldhello lo worldhe hello worl rldhello w  worldhell llo worldh dhello wor orldhello  o worldhel ello world ldhello wo worldhello lo worldhe hello worl rldhello w  worldhell llo worldh dhello wor orldhello  o worldhel ello world ldhello wo worldhello lo worldhe hello worl rldhello w  worldhell llo worldh dhello wor orldhello  o worldhel ello world ldhello wo worldhello lo worldhe hello worl rldhello w  worldhell llo worldh dhello wor orldhello  o worldhel ello world ldhello wo worldhello lo worldhe hello worl rldhello w  worldhell llo worldh dhello wor orldhello  o worldhel ello world ldhello wo worldhello lo worldhe hello worl rldhello w  worldhell llo worldh dhello wor orldhello  o worldhel ello world ldhello wo worldhello lo worldhe hello worl rldhello w  worldhell llo worldh dhello wor orldhello  o worldhel ello world ldhello wo worldhello lo worldhe hello worl rldhello w  worldhell llo worldh dhello wor orldhello  o worldhel ello world ldhello wo worldhello lo worldhe hello worl rldhello w  worldhell llo worldh dhello wor orldhello  o worldhel ello world ldhello wo worldhello lo worldhe hello worl rldhello w  worldhell llo worldh dhello wor orldhello  o worldhel ello world ldhello wo worldhello lo worldhe hello worl rldhello w  worldhell llo worldh dhello wor orldhello  o worldhel ello world ldhello wo worldhello lo worldhe hello worl rldhello w  worldhell llo worldh dhello wor orldhello  o worldhel ello world ldhello wo worldhello lo worldhe hello worl rldhello w  worldhell llo worldh dhello wor orldhello  o worldhel ello world ldhello wo worldhello lo worldhe hello worl rldhello w  worldhell llo worldh dhello wor orldhello  o worldhel ello world ldhello wo worldhello lo worldhe hello worl rldhello w  worldhell llo worldh dhello wor orldhello  o worldhel ello world ldhello wo worldhello lo worldhe hello worl rldhello w  worldhell llo worldh dhello wor orldhello  o worldhel ello world ldhello wo worldhello lo worldhe hello worl rldhello w  worldhell llo worldh dhello wor orldhello  o worldhel ello world ldhello wo worldhello lo worldhe hello worl rldhello w  worldhell llo worldh dhello wor orldhello  o worldhel ello world ldhello wo worldhello lo worldhe hello worl rldhello w  worldhell llo worldh dhello wor orldhello  o worldhel ello world ldhello wo worldhello lo worldhe hello worl rldhello w  worldhell llo worldh dhello wor orldhello  o worldhel ello world ldhello wo worldhello lo worldhe hello worl rldhello w  worldhell llo worldh dhello wor orldhello  o worldhel ello world ldhello wo worldhello lo worldhe hello worl rldhello w  worldhell llo worldh dhello wor orldhello  o worldhel ello world ldhello wo worldhello lo worldhe hello worl rldhello w  worldhell llo worldh dhello wor orldhello  o worldhel ello world ldhello wo worldhello lo worldhe hello worl rldhello w  worldhell llo worldh dhello wor orldhello  o worldhel ello world ldhello wo worldhello lo worldhe hello worl rldhello w  worldhell llo worldh dhello wor orldhello  o worldhel ello world ldhello wo worldhello lo worldhe hello worl rldhello w  worldhell llo worldh dhello wor orldhello  o worldhel ello world ldhello wo worldhello lo worldhe hello worl rldhello w  worldhell llo worldh dhello wor orldhello  o worldhel ello world ldhello wo worldhello lo worldhe hello worl rldhello w  worldhell llo worldh dhello wor orldhello  o worldhel ello world ldhello wo worldhello lo worldhe hello worl rldhello w  worldhell llo worldh dhello wor orldhello  o worldhel ello world ldhello wo worldhello lo worldhe hello worl rldhello w  worldhell llo worldh dhello wor orldhello  o worldhel ello world ldhello wo worldhello lo worldhe hello worl rldhello w  worldhell llo worldh dhello wor orldhello  o worldhel ello world "
     ]
    }
   ],
   "source": [
    "with open(\"./big.txt\",'r') as file:\n",
    "    chunksize=10\n",
    "    while len(file.read(chunksize)) > 0:\n",
    "        print(file.read(chunksize),end=' ')\n",
    "        file.read(chunksize)"
   ]
  },
  {
   "cell_type": "markdown",
   "metadata": {},
   "source": [
    "# seek and tell"
   ]
  },
  {
   "cell_type": "code",
   "execution_count": 18,
   "metadata": {},
   "outputs": [
    {
     "name": "stdout",
     "output_type": "stream",
     "text": [
      "0\n"
     ]
    }
   ],
   "source": [
    "with open(\"./file.txt\",'r') as f:\n",
    "#     print(f.read(10))\n",
    "#     print(f.read(10))\n",
    "#     print(f.tell())\n",
    "    print(f.seek(0))\n",
    "#     print(f.read(10))"
   ]
  },
  {
   "cell_type": "code",
   "execution_count": 19,
   "metadata": {},
   "outputs": [],
   "source": [
    "# during write\n",
    "with open(\"./file.txt\",'w') as file:\n",
    "    file.write(\"hello world\")\n",
    "    file.seek(0)\n",
    "    file.write(\"Xa\")"
   ]
  },
  {
   "cell_type": "code",
   "execution_count": 20,
   "metadata": {},
   "outputs": [],
   "source": [
    "# binary file"
   ]
  },
  {
   "cell_type": "code",
   "execution_count": 21,
   "metadata": {},
   "outputs": [],
   "source": [
    "path=r\"C:\\Users\\GIGABYTE\\Downloads\\pexels-george-desipris-1028637.jpg\""
   ]
  },
  {
   "cell_type": "code",
   "execution_count": 22,
   "metadata": {},
   "outputs": [
    {
     "ename": "UnicodeDecodeError",
     "evalue": "'cp949' codec can't decode byte 0xff in position 0: illegal multibyte sequence",
     "output_type": "error",
     "traceback": [
      "\u001b[1;31m---------------------------------------------------------------------------\u001b[0m",
      "\u001b[1;31mUnicodeDecodeError\u001b[0m                        Traceback (most recent call last)",
      "\u001b[1;32m<ipython-input-22-da6ae99fd428>\u001b[0m in \u001b[0;36m<module>\u001b[1;34m\u001b[0m\n\u001b[0;32m      1\u001b[0m \u001b[1;32mwith\u001b[0m \u001b[0mopen\u001b[0m\u001b[1;33m(\u001b[0m\u001b[0mpath\u001b[0m\u001b[1;33m,\u001b[0m \u001b[1;34m'r'\u001b[0m\u001b[1;33m)\u001b[0m \u001b[1;32mas\u001b[0m \u001b[0mfile\u001b[0m\u001b[1;33m:\u001b[0m\u001b[1;33m\u001b[0m\u001b[1;33m\u001b[0m\u001b[0m\n\u001b[1;32m----> 2\u001b[1;33m     \u001b[0mprint\u001b[0m\u001b[1;33m(\u001b[0m\u001b[0mfile\u001b[0m\u001b[1;33m.\u001b[0m\u001b[0mread\u001b[0m\u001b[1;33m(\u001b[0m\u001b[1;33m)\u001b[0m\u001b[1;33m)\u001b[0m\u001b[1;33m\u001b[0m\u001b[1;33m\u001b[0m\u001b[0m\n\u001b[0m",
      "\u001b[1;31mUnicodeDecodeError\u001b[0m: 'cp949' codec can't decode byte 0xff in position 0: illegal multibyte sequence"
     ]
    }
   ],
   "source": [
    "with open(path, 'r') as file:\n",
    "    print(file.read())"
   ]
  },
  {
   "cell_type": "code",
   "execution_count": 25,
   "metadata": {},
   "outputs": [],
   "source": [
    "with open(path,'rb') as file:\n",
    "    with open(\"./sreenshot_copy.jpg\",'wb') as wf:\n",
    "        wf.write(file.read())"
   ]
  },
  {
   "cell_type": "code",
   "execution_count": null,
   "metadata": {},
   "outputs": [],
   "source": []
  },
  {
   "cell_type": "code",
   "execution_count": 26,
   "metadata": {},
   "outputs": [
    {
     "ename": "TypeError",
     "evalue": "write() argument must be str, not int",
     "output_type": "error",
     "traceback": [
      "\u001b[1;31m---------------------------------------------------------------------------\u001b[0m",
      "\u001b[1;31mTypeError\u001b[0m                                 Traceback (most recent call last)",
      "\u001b[1;32m<ipython-input-26-b1099c1ad22b>\u001b[0m in \u001b[0;36m<module>\u001b[1;34m\u001b[0m\n\u001b[0;32m      2\u001b[0m \u001b[1;33m\u001b[0m\u001b[0m\n\u001b[0;32m      3\u001b[0m \u001b[1;32mwith\u001b[0m \u001b[0mopen\u001b[0m\u001b[1;33m(\u001b[0m\u001b[1;34m\"./file.txt\"\u001b[0m\u001b[1;33m,\u001b[0m\u001b[1;34m'w'\u001b[0m\u001b[1;33m)\u001b[0m \u001b[1;32mas\u001b[0m \u001b[0mfile\u001b[0m\u001b[1;33m:\u001b[0m\u001b[1;33m\u001b[0m\u001b[1;33m\u001b[0m\u001b[0m\n\u001b[1;32m----> 4\u001b[1;33m     \u001b[0mfile\u001b[0m\u001b[1;33m.\u001b[0m\u001b[0mwrite\u001b[0m\u001b[1;33m(\u001b[0m\u001b[1;36m12\u001b[0m\u001b[1;33m)\u001b[0m\u001b[1;33m\u001b[0m\u001b[1;33m\u001b[0m\u001b[0m\n\u001b[0m",
      "\u001b[1;31mTypeError\u001b[0m: write() argument must be str, not int"
     ]
    }
   ],
   "source": [
    "# text not working in file mode\n",
    "\n",
    "with open(\"./file.txt\",'w') as file:\n",
    "    file.write(12)"
   ]
  },
  {
   "cell_type": "code",
   "execution_count": 27,
   "metadata": {},
   "outputs": [
    {
     "ename": "TypeError",
     "evalue": "write() argument must be str, not dict",
     "output_type": "error",
     "traceback": [
      "\u001b[1;31m---------------------------------------------------------------------------\u001b[0m",
      "\u001b[1;31mTypeError\u001b[0m                                 Traceback (most recent call last)",
      "\u001b[1;32m<ipython-input-27-2cecdea9aa1e>\u001b[0m in \u001b[0;36m<module>\u001b[1;34m\u001b[0m\n\u001b[0;32m      5\u001b[0m \u001b[1;33m\u001b[0m\u001b[0m\n\u001b[0;32m      6\u001b[0m \u001b[1;32mwith\u001b[0m \u001b[0mopen\u001b[0m\u001b[1;33m(\u001b[0m\u001b[1;34m\"./file.txt\"\u001b[0m\u001b[1;33m,\u001b[0m\u001b[1;34m'w'\u001b[0m\u001b[1;33m)\u001b[0m \u001b[1;32mas\u001b[0m \u001b[0mfile\u001b[0m\u001b[1;33m:\u001b[0m\u001b[1;33m\u001b[0m\u001b[1;33m\u001b[0m\u001b[0m\n\u001b[1;32m----> 7\u001b[1;33m     \u001b[0mfile\u001b[0m\u001b[1;33m.\u001b[0m\u001b[0mwrite\u001b[0m\u001b[1;33m(\u001b[0m\u001b[0md\u001b[0m\u001b[1;33m)\u001b[0m\u001b[1;33m\u001b[0m\u001b[1;33m\u001b[0m\u001b[0m\n\u001b[0m",
      "\u001b[1;31mTypeError\u001b[0m: write() argument must be str, not dict"
     ]
    }
   ],
   "source": [
    "d={\n",
    "    \"name\":\"ali\",\n",
    "    'age':33\n",
    "}\n",
    "\n",
    "with open(\"./file.txt\",'w') as file:\n",
    "    file.write(d)"
   ]
  },
  {
   "cell_type": "markdown",
   "metadata": {},
   "source": [
    "# serialization and desrialization"
   ]
  },
  {
   "cell_type": "code",
   "execution_count": 30,
   "metadata": {},
   "outputs": [],
   "source": [
    "# python -> json format\n",
    "# json -> python"
   ]
  },
  {
   "cell_type": "code",
   "execution_count": 32,
   "metadata": {},
   "outputs": [],
   "source": [
    "import json"
   ]
  },
  {
   "cell_type": "code",
   "execution_count": 33,
   "metadata": {},
   "outputs": [],
   "source": [
    "l=[1,2,3]\n",
    "\n",
    "with open(\"demo.json\", 'w') as file:\n",
    "    json.dump(l, file)"
   ]
  },
  {
   "cell_type": "code",
   "execution_count": 35,
   "metadata": {},
   "outputs": [],
   "source": [
    "with open(\"demo.json\", 'w') as file:\n",
    "    json.dump(d, file,indent=4)"
   ]
  },
  {
   "cell_type": "code",
   "execution_count": 36,
   "metadata": {},
   "outputs": [],
   "source": [
    "# deserialization"
   ]
  },
  {
   "cell_type": "code",
   "execution_count": 39,
   "metadata": {},
   "outputs": [
    {
     "name": "stdout",
     "output_type": "stream",
     "text": [
      "{'name': 'ali', 'age': 33}\n"
     ]
    }
   ],
   "source": [
    "with open(\"./demo.json\",'r') as f:\n",
    "    print(json.load(f))"
   ]
  },
  {
   "cell_type": "code",
   "execution_count": 40,
   "metadata": {},
   "outputs": [],
   "source": [
    "# ser and des tupe\n",
    "\n",
    "t=(1,2,2,)\n",
    "with open(\"./demo.json\",'w') as f:\n",
    "    json.dump(t,f)"
   ]
  },
  {
   "cell_type": "code",
   "execution_count": 41,
   "metadata": {},
   "outputs": [],
   "source": [
    "# ser and des custom object"
   ]
  },
  {
   "cell_type": "code",
   "execution_count": 46,
   "metadata": {},
   "outputs": [],
   "source": [
    "class Person:\n",
    "    def __init__(self,fname, lname, age, gender):\n",
    "        self.fname=fname\n",
    "        self.lname=lname\n",
    "        self.age=age\n",
    "        self.gender=gender"
   ]
  },
  {
   "cell_type": "code",
   "execution_count": 47,
   "metadata": {},
   "outputs": [],
   "source": [
    "person=Person(\"a\",'b',1,'male')"
   ]
  },
  {
   "cell_type": "code",
   "execution_count": 49,
   "metadata": {},
   "outputs": [],
   "source": [
    "def show_object(person):\n",
    "    if isinstance(person,Person):\n",
    "        return \"{},{},{},{}\".format(person.fname,\n",
    "                                   person.lname,\n",
    "                                   person.age,\n",
    "                                   person.gender)"
   ]
  },
  {
   "cell_type": "code",
   "execution_count": 50,
   "metadata": {},
   "outputs": [],
   "source": [
    "with open(\"./demo.json\",'w') as f:\n",
    "    json.dump(person,f, default=show_object)"
   ]
  },
  {
   "cell_type": "code",
   "execution_count": 51,
   "metadata": {},
   "outputs": [],
   "source": [
    "# dict format\n",
    "def show_object(person):\n",
    "    if isinstance(person,Person):\n",
    "        return {\n",
    "            \"name\":person.fname,\n",
    "            \"lname\":person.lname,\n",
    "            \"age\":person.age,\n",
    "            \"gender\":person.gender\n",
    "        }\n",
    "with open(\"./demo.json\",'w') as f:\n",
    "    json.dump(person,f, default=show_object,indent=4)"
   ]
  },
  {
   "cell_type": "code",
   "execution_count": 53,
   "metadata": {},
   "outputs": [],
   "source": [
    "# pickling => python object -> byte stream. unpickling inverse of pickling"
   ]
  },
  {
   "cell_type": "code",
   "execution_count": 54,
   "metadata": {},
   "outputs": [],
   "source": [
    "class Person:\n",
    "    def __init__(self,name, age):\n",
    "        self.name=name\n",
    "        self.age=age\n",
    "    def display_info(self):\n",
    "        print(\"{}, your age is {}\".format(self.name, self.age))"
   ]
  },
  {
   "cell_type": "code",
   "execution_count": 55,
   "metadata": {},
   "outputs": [],
   "source": [
    "p=Person(\"hi\",12)"
   ]
  },
  {
   "cell_type": "code",
   "execution_count": 56,
   "metadata": {},
   "outputs": [],
   "source": [
    "import pickle"
   ]
  },
  {
   "cell_type": "code",
   "execution_count": 57,
   "metadata": {},
   "outputs": [],
   "source": [
    "with open(\"./person.pkl\",'wb') as f:\n",
    "    pickle.dump(p,f)"
   ]
  },
  {
   "cell_type": "code",
   "execution_count": 60,
   "metadata": {},
   "outputs": [],
   "source": [
    "with open(\"./person.pkl\",'rb') as f:\n",
    "    p=pickle.load(f)"
   ]
  },
  {
   "cell_type": "code",
   "execution_count": 62,
   "metadata": {},
   "outputs": [
    {
     "name": "stdout",
     "output_type": "stream",
     "text": [
      "hi, your age is 12\n"
     ]
    }
   ],
   "source": [
    "p.display_info()"
   ]
  },
  {
   "cell_type": "code",
   "execution_count": null,
   "metadata": {},
   "outputs": [],
   "source": []
  }
 ],
 "metadata": {
  "kernelspec": {
   "display_name": "Python 3",
   "language": "python",
   "name": "python3"
  },
  "language_info": {
   "codemirror_mode": {
    "name": "ipython",
    "version": 3
   },
   "file_extension": ".py",
   "mimetype": "text/x-python",
   "name": "python",
   "nbconvert_exporter": "python",
   "pygments_lexer": "ipython3",
   "version": "3.8.5"
  }
 },
 "nbformat": 4,
 "nbformat_minor": 4
}
