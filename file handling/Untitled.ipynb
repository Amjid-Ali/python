{
 "cells": [
  {
   "cell_type": "markdown",
   "metadata": {},
   "source": [
    "# it is used for opening a file \n",
    "f = open(filename, mode)\n",
    "\n",
    "\n",
    "- r: open an existing file for a read operation.\n",
    "- w: open an existing file for a write operation. If the file already contains some data then it will be overridden but if the file is not present then it creates the file as well.\n",
    "- a:  open an existing file for append operation. It won’t override existing data.\n",
    "-  r+:  To read and write data into the file. The previous data in the file will be overridden.\n",
    "- w+: To write and read data. It will override existing data.\n",
    "- a+: To append and read data from the file. It won’t override existing data.\n",
    "\n",
    "\n",
    "\n",
    "\n",
    "- r\n",
    "Opens a file for reading only. The file pointer is placed at the beginning of the file. This is the default mode.\n",
    "\n",
    "- rb\n",
    "Opens a file for reading only in binary format. The file pointer is placed at the beginning of the file. This is the default mode.\n",
    "\n",
    "- r+\n",
    "Opens a file for both reading and writing. The file pointer will be at the beginning of the file.\n",
    "\n",
    "- rb+\n",
    "Opens a file for both reading and writing in binary format. The file pointer will be at the beginning of the file.\n",
    "\n",
    "- w\n",
    "Opens a file for writing only. Overwrites the file if the file exists. If the file does not exist, creates a new file for writing.\n",
    "\n",
    "- wb\n",
    "Opens a file for writing only in binary format. Overwrites the file if the file exists. If the file does not exist, creates a new file for writing.\n",
    "\n",
    "- w+\n",
    "Opens a file for both writing and reading. Overwrites the existing file if the file exists. If the file does not exist, creates a new file for reading and writing.\n",
    "\n",
    "- wb+\n",
    "Opens a file for both writing and reading in binary format. Overwrites the existing file if the file exists. If the file does not exist, creates a new file for reading and writing.\n",
    "\n",
    "- a\n",
    "Opens a file for appending. The file pointer is at the end of the file if the file exists. That is, the file is in the append mode. If the file does not exist, it creates a new file for writing.\n",
    "\n",
    "- ab\n",
    "Opens a file for appending in binary format. The file pointer is at the end of the file if the file exists. That is, the file is in the append mode. If the file does not exist, it creates a new file for writing.\n",
    "\n",
    "- a+\n",
    "Opens a file for both appending and reading. The file pointer is at the end of the file if the file exists. The file opens in the append mode. If the file does not exist, it creates a new file for reading and writing.\n",
    "\n",
    "- ab+\n",
    "Opens a file for both appending and reading in binary format. The file pointer is at the end of the file if the file exists. The file opens in the append mode. If the file does not exist, it creates a new file for reading and writing."
   ]
  },
  {
   "cell_type": "code",
   "execution_count": 7,
   "metadata": {},
   "outputs": [
    {
     "name": "stdout",
     "output_type": "stream",
     "text": [
      "<class 'str'>\n",
      "<class 'str'>\n"
     ]
    }
   ],
   "source": [
    "file=open(\"./file.TXT\",'r')\n",
    "\n",
    "\n",
    "for line in file:\n",
    "    print(type(line))"
   ]
  },
  {
   "cell_type": "markdown",
   "metadata": {},
   "source": [
    "# Working of read() mode\n",
    "There is more than one way to read a file in Python. If you need to extract a string that contains all characters in the file then we can use file.read(). The full code would work like this"
   ]
  },
  {
   "cell_type": "code",
   "execution_count": 10,
   "metadata": {},
   "outputs": [],
   "source": [
    "file=open(\"./file.TXT\",'r')\n",
    "\n",
    "# print(file.read())\n",
    "\n",
    "# print(file.read(4))"
   ]
  },
  {
   "cell_type": "markdown",
   "metadata": {},
   "source": [
    "# Creating a file using write() mode\n",
    "Let’s see how to create a file and how to write mode works, so in order to manipulate the file, write the following in your Python environment"
   ]
  },
  {
   "cell_type": "code",
   "execution_count": 11,
   "metadata": {},
   "outputs": [],
   "source": [
    "# writing new file\n",
    "file=open(\"./new_file.txt\",'w')"
   ]
  },
  {
   "cell_type": "code",
   "execution_count": 12,
   "metadata": {},
   "outputs": [],
   "source": [
    "file.write(\"this is written from python\")\n",
    "file.close()"
   ]
  },
  {
   "cell_type": "markdown",
   "metadata": {},
   "source": [
    "# Working of append() mode\n",
    "Let us see how the append mode works: "
   ]
  },
  {
   "cell_type": "code",
   "execution_count": 13,
   "metadata": {},
   "outputs": [],
   "source": [
    "file=open(\"./append_file.txt\",'a')\n",
    "\n",
    "file.write(\"this is written by python\")\n",
    "file.close()"
   ]
  },
  {
   "cell_type": "code",
   "execution_count": 17,
   "metadata": {},
   "outputs": [],
   "source": [
    "# with is used for opening a file\n",
    "with open(\"./new_file.txt\") as file:\n",
    "    data=file.read()"
   ]
  },
  {
   "cell_type": "code",
   "execution_count": 18,
   "metadata": {},
   "outputs": [
    {
     "data": {
      "text/plain": [
       "'this is written from python'"
      ]
     },
     "execution_count": 18,
     "metadata": {},
     "output_type": "execute_result"
    }
   ],
   "source": [
    "data"
   ]
  },
  {
   "cell_type": "code",
   "execution_count": 20,
   "metadata": {},
   "outputs": [],
   "source": [
    "# with, writtingmore\n",
    "with open(\"./new_file.txt\",'w') as file:\n",
    "    file.write(\"new documents are added with help of with keyword\")\n",
    "    file.close()"
   ]
  },
  {
   "cell_type": "markdown",
   "metadata": {},
   "source": [
    "# split() using file handling\n",
    "We can also split lines using file handling in Python. This splits the variable when space is encountered. You can also split using any characters as we wish. Here is the code"
   ]
  },
  {
   "cell_type": "code",
   "execution_count": 26,
   "metadata": {},
   "outputs": [
    {
     "name": "stdout",
     "output_type": "stream",
     "text": [
      "['new', 'documents', 'are', 'added', 'with', 'help', 'of', 'with', 'keyword']\n"
     ]
    }
   ],
   "source": [
    "with open(\"./new_file.txt\",'r') as file:\n",
    "    data=file.readlines()\n",
    "    for space in data:\n",
    "        print(space.split())"
   ]
  },
  {
   "cell_type": "code",
   "execution_count": 37,
   "metadata": {},
   "outputs": [],
   "source": [
    "with open(\"./new_file.txt\",'r') as file:\n",
    "#     read=file.read()\n",
    "    read_line=file.readline()"
   ]
  },
  {
   "cell_type": "markdown",
   "metadata": {},
   "source": [
    "# python open\n",
    "Python provides inbuilt functions for creating, writing, and reading files. There are two types of files that can be handled in Python, normal text files and binary files (written in binary language, 0s, and 1s).\n",
    "\n",
    "Text files: In this type of file, each line of text is terminated with a special character called EOL (End of Line), which is the new line character (‘\\n’) in Python by default. In the case of CSV(Comma Separated Files, the EOF is a comma by default.\n",
    "Binary files: In this type of file, there is no terminator for a line, and the data is stored after converting it into machine-understandable binary language, i.e., 0 and 1 format."
   ]
  },
  {
   "cell_type": "markdown",
   "metadata": {},
   "source": [
    "Opening a file\n",
    "Opening a file refers to getting the file ready either for reading or for writing. This can be done using the open() function. This function returns a file object and takes two arguments, one that accepts the file name and another that accepts the mode(Access Mode). Now, the question arises what is the access mode? Access modes govern the type of operations possible in the opened file. It refers to how the file will be used once it’s opened. These modes also define the location of the File Handle in the file. File handle is like a cursor, which defines from where the data has to be read or written in the file. There are 6 access modes in python.\n",
    "\n",
    "- Read Only (‘r’): Open text file for reading. The handle is positioned at the beginning of the file. If the file does not exist, raises an I/O error. This is also the default mode in which the file is opened.\n",
    "- Read and Write (‘r+’): Open the file for reading and writing. The handle is positioned at the beginning of the file. Raises I/O error if the file does not exist.\n",
    "- Write Only (‘w’): Open the file for writing. For the existing files, the data is truncated and over-written. The handle is positioned at the beginning of the file. Creates the file if the file does not exist.\n",
    "- Write and Read (‘w+’): Open the file for reading and writing. For existing files, data is truncated and over-written. The handle is positioned at the beginning of the file.\n",
    "- Append Only (‘a’): Open the file for writing. The file is created if it does not exist. The handle is positioned at the end of the file. The data being written will be inserted at the end, after the existing data.\n",
    "- Append and Read (‘a+’): Open the file for reading and writing. The file is created if it does not exist. The handle is positioned at the end of the file. The data being written will be inserted at the end, after the existing data.\n",
    "- Read Only in Binary format(‘rb’):  It lets the user open the file for reading in binary format.\n",
    "- Read and Write in Binary Format(‘rb+’): It lets the user open the file for reading and writing in binary format.\n",
    "- Write Only in Binary Format(‘wb’): It lets the user open the file for writing in binary format. When a file gets opened in this mode, there are two things that can happen mostly. A new file gets created if the file does not exist. The content within the file will get overwritten if the file exists and has some data stored in it. \n",
    "- Write and Read in Binary Format(‘wb+’):  It lets the user open the file for reading as well as writing in binary format. When a file gets opened in this mode, there are two things that can mostly happen. A new file gets created for writing and reading if the file does not exist. The content within the file will get overwritten if the file exists and has some data stored in it. \n",
    "- Append only in Binary Format(‘ab’): It lets the user open the file for appending in binary format. A new file gets created if there is no file. The data will be inserted at the end if the file exists and has some data stored in it. \n",
    "- Append and Read in Binary Format(‘ab+’): It lets the user open the file for appending and reading in binary format. A new file will be created for reading and appending if the file does not exist. We can read and append if the file exists and has some data stored in it"
   ]
  },
  {
   "cell_type": "code",
   "execution_count": 51,
   "metadata": {},
   "outputs": [],
   "source": [
    "# r mode\n",
    "\n",
    "# file=open(\"./file.TXT\",'r')\n",
    "# print(file.read())\n",
    "# file.close()\n",
    "\n",
    "\n",
    "# r+\n",
    "\n",
    "# file=open(\"./file.TXT\",'r+')\n",
    "# file.write(\"this is file 2\")\n",
    "# file.close()"
   ]
  },
  {
   "cell_type": "code",
   "execution_count": 64,
   "metadata": {},
   "outputs": [],
   "source": [
    "# w is used for writting into the file\n",
    "\n",
    "# file=open(\"./making_on_runtime.txt\",'w')\n",
    "# file.write(\"this is writting on runtime\")\n",
    "# file.close()\n",
    "\n",
    "# this is overriden if the file is existing\n",
    "# file=open(\"./making_on_runtime.txt\",'w+')\n",
    "# file.write(\"this is second time\")\n",
    "# print(file.read())\n",
    "# file.close()"
   ]
  },
  {
   "cell_type": "code",
   "execution_count": 68,
   "metadata": {},
   "outputs": [
    {
     "name": "stdout",
     "output_type": "stream",
     "text": [
      "\n"
     ]
    }
   ],
   "source": [
    "# a is used for appending\n",
    "# file=open(\"./new_file.txt\",'a')\n",
    "# file.write(\"appended at the end of the sentence\")\n",
    "# file.close()\n",
    "\n",
    "# file=open(\"./new_file.txt\",'a+')\n",
    "# print(file.read())\n",
    "# file.write(\"appended at the end of the sentence\")\n",
    "file.close()"
   ]
  },
  {
   "cell_type": "code",
   "execution_count": 69,
   "metadata": {},
   "outputs": [
    {
     "name": "stdout",
     "output_type": "stream",
     "text": [
      "b'this is file 2'\n"
     ]
    }
   ],
   "source": [
    "# r mode\n",
    "\n",
    "file=open(\"./file.TXT\",'rb')\n",
    "print(file.read())\n",
    "file.close()\n",
    "\n",
    "\n",
    "# r+\n",
    "\n",
    "# file=open(\"./file.TXT\",'r+')\n",
    "# file.write(\"this is file 2\")\n",
    "# file.close()"
   ]
  },
  {
   "cell_type": "markdown",
   "metadata": {},
   "source": [
    "# Reading from a file\n",
    "There are three ways to read data from a text file.\n",
    "\n",
    "read() : Returns the read bytes in form of a string. Reads n bytes, if no n specified, reads the entire file.\n",
    "\n",
    "readline() : Reads a line of the file and returns in form of a string.For specified n, reads at most n bytes. However, does not reads more than one line, even if n exceeds the length of the line\n",
    "\n",
    "readlines() : Reads all the lines and return them as each line a string element in a list."
   ]
  },
  {
   "cell_type": "code",
   "execution_count": 70,
   "metadata": {},
   "outputs": [
    {
     "name": "stdout",
     "output_type": "stream",
     "text": [
      "Output of Read function is \n",
      "Hello \n",
      "This is Delhi \n",
      "This is Paris \n",
      "This is London \n",
      "\n",
      "\n",
      "Output of Readline function is \n",
      "Hello \n",
      "\n",
      "\n",
      "Output of Read(9) function is \n",
      "Hello \n",
      "Th\n",
      "\n",
      "Output of Readline(9) function is \n",
      "Hello \n",
      "\n",
      "\n",
      "Output of Readlines function is \n",
      "['Hello \\n', 'This is Delhi \\n', 'This is Paris \\n', 'This is London \\n']\n",
      "\n"
     ]
    }
   ],
   "source": [
    "# Creating a file\n",
    "file1 = open(\"myfile.txt\", \"w\")\n",
    "L = [\"This is Delhi \\n\", \"This is Paris \\n\", \"This is London \\n\"]\n",
    "  \n",
    "# Writing data to a file\n",
    "file1.write(\"Hello \\n\") \n",
    "file1.writelines(L)\n",
    "file1.close()  # to change file access modes\n",
    "  \n",
    "file1 = open(\"myfile.txt\", \"r+\")\n",
    "  \n",
    "print(\"Output of Read function is \")\n",
    "print(file1.read())\n",
    "print()\n",
    "  \n",
    "# seek(n) takes the file handle to the nth\n",
    "# bite from the beginning. \n",
    "file1.seek(0)\n",
    "  \n",
    "print(\"Output of Readline function is \")\n",
    "print(file1.readline())\n",
    "print()\n",
    "  \n",
    "file1.seek(0)\n",
    "  \n",
    "# To show difference between read and readline \n",
    "print(\"Output of Read(9) function is \")\n",
    "print(file1.read(9))\n",
    "print()\n",
    "  \n",
    "file1.seek(0)\n",
    "  \n",
    "print(\"Output of Readline(9) function is \")\n",
    "print(file1.readline(9))\n",
    "print()\n",
    "  \n",
    "file1.seek(0)\n",
    "  \n",
    "# readlines function \n",
    "print(\"Output of Readlines function is \")\n",
    "print(file1.readlines())\n",
    "print()\n",
    "file1.close() "
   ]
  },
  {
   "cell_type": "code",
   "execution_count": 71,
   "metadata": {},
   "outputs": [
    {
     "name": "stdout",
     "output_type": "stream",
     "text": [
      "Output of Readlines after appending\n",
      "This is Delhi \n",
      "This is Paris \n",
      "This is LondonToday \n",
      "\n",
      "\n",
      "Output of Readlines after writing\n",
      "Tomorrow \n",
      "\n",
      "\n"
     ]
    }
   ],
   "source": [
    "\n",
    "file1 = open(\"myfile.txt\", \"w\")\n",
    "L = [\"This is Delhi \\n\", \"This is Paris \\n\", \"This is London\"]\n",
    "file1.writelines(L)\n",
    "file1.close()\n",
    " \n",
    "# Append-adds at last\n",
    "file1 = open(\"myfile.txt\", \"a\")  # append mode\n",
    "file1.write(\"Today \\n\")\n",
    "file1.close()\n",
    " \n",
    "file1 = open(\"myfile.txt\", \"r\")\n",
    "print(\"Output of Readlines after appending\")\n",
    "print(file1.read())\n",
    "print()\n",
    "file1.close()\n",
    " \n",
    "# Write-Overwrites\n",
    "file1 = open(\"myfile.txt\", \"w\")  # write mode\n",
    "file1.write(\"Tomorrow \\n\")\n",
    "file1.close()\n",
    " \n",
    "file1 = open(\"myfile.txt\", \"r\")\n",
    "print(\"Output of Readlines after writing\")\n",
    "print(file1.read())\n",
    "print()\n",
    "file1.close()"
   ]
  },
  {
   "cell_type": "code",
   "execution_count": 72,
   "metadata": {},
   "outputs": [
    {
     "name": "stdout",
     "output_type": "stream",
     "text": [
      "Hello \n",
      "This is Delhi \n",
      "This is Paris \n",
      "This is London \n",
      "Today\n"
     ]
    }
   ],
   "source": [
    "L = [\"This is Delhi \\n\", \"This is Paris \\n\", \"This is London \\n\"]\n",
    " \n",
    "# Writing to file\n",
    "with open(\"myfile.txt\", \"w\") as file1:\n",
    "    # Writing data to a file\n",
    "    file1.write(\"Hello \\n\")\n",
    "    file1.writelines(L)\n",
    " \n",
    "# Appending to file\n",
    "with open(\"myfile.txt\", 'a') as file1:\n",
    "    file1.write(\"Today\")\n",
    " \n",
    " \n",
    "# Reading from file\n",
    "with open(\"myfile.txt\", \"r+\") as file1:\n",
    "    # Reading form a file\n",
    "    print(file1.read())"
   ]
  },
  {
   "cell_type": "markdown",
   "metadata": {},
   "source": [
    "# editing"
   ]
  },
  {
   "cell_type": "code",
   "execution_count": 78,
   "metadata": {},
   "outputs": [],
   "source": [
    "# # total = 'Total: __{}__'.format(12345)\n",
    "\n",
    "\n",
    "# with open(\"./new_file.txt\", 'r+') as f:\n",
    "#     contents = f.read().replace(\"added\",\"updated... congrulations!!!\")\n",
    "#     f.seek(0)\n",
    "#     f.truncate()\n",
    "#     f.write(contents)"
   ]
  },
  {
   "cell_type": "code",
   "execution_count": 95,
   "metadata": {},
   "outputs": [],
   "source": [
    "fi = open(\"./seek.txt\", \"r\")  "
   ]
  },
  {
   "cell_type": "code",
   "execution_count": 96,
   "metadata": {},
   "outputs": [
    {
     "name": "stdout",
     "output_type": "stream",
     "text": [
      "this is tell function 5\n",
      "is the sentence I am Writing to show the example of the seek() method working in Python\n"
     ]
    }
   ],
   "source": [
    "# the second parameter of the seek method is by default 0  \n",
    "fi.seek(5)  \n",
    "# now, we will print the current position  \n",
    "print(\"this is tell function\",fi.tell())  \n",
    "print(fi.readline())  \n",
    "fi.close()  "
   ]
  },
  {
   "cell_type": "code",
   "execution_count": 97,
   "metadata": {},
   "outputs": [
    {
     "name": "stdout",
     "output_type": "stream",
     "text": [
      "Name of the file:  ./seek_text.txt\n",
      "Read Line: This is the sentence I am Writing to show the example of the seek()     \n",
      "\n",
      "Read Line: The line no. 2 for showing the second method of writing the seek()   \n",
      "\n"
     ]
    }
   ],
   "source": [
    "fi = open (\"./seek_text.txt\", \"r+\")  \n",
    "print (\"Name of the file: \", fi.name)  \n",
    "  \n",
    "line_1 = fi.readline()  \n",
    "print (\"Read Line: %s\" % (line_1))  \n",
    "  \n",
    "# Again, set the pointer to the beginning  \n",
    "fi.seek (0, 1)  \n",
    "line_2 = fi.readline()  \n",
    "print (\"Read Line: %s\" % (line_2))  \n",
    "  \n",
    "# Close opend file  \n",
    "fi.close()  "
   ]
  },
  {
   "cell_type": "code",
   "execution_count": null,
   "metadata": {},
   "outputs": [],
   "source": []
  }
 ],
 "metadata": {
  "kernelspec": {
   "display_name": "Python 3",
   "language": "python",
   "name": "python3"
  },
  "language_info": {
   "codemirror_mode": {
    "name": "ipython",
    "version": 3
   },
   "file_extension": ".py",
   "mimetype": "text/x-python",
   "name": "python",
   "nbconvert_exporter": "python",
   "pygments_lexer": "ipython3",
   "version": "3.8.5"
  }
 },
 "nbformat": 4,
 "nbformat_minor": 4
}
