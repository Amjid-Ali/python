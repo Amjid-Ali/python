{
 "cells": [
  {
   "cell_type": "markdown",
   "metadata": {},
   "source": [
    "# Python Dates\n",
    "A date in Python is not a data type of its own, but we can import a module named datetime to work with dates as date objects."
   ]
  },
  {
   "cell_type": "code",
   "execution_count": null,
   "metadata": {},
   "outputs": [],
   "source": [
    "import datetime\n",
    "\n",
    "time=datetime.datetime.now()\n",
    "# print(time)\n",
    "time.year\n",
    "print(x.strftime(\"%A\"))"
   ]
  },
  {
   "cell_type": "markdown",
   "metadata": {},
   "source": [
    "# Creating Date Objects \n",
    "To create a date, we can use the datetime() class (constructor) of the datetime module.\n",
    "\n",
    "The datetime() class requires three parameters to create a date: year, month, day"
   ]
  },
  {
   "cell_type": "code",
   "execution_count": null,
   "metadata": {},
   "outputs": [],
   "source": [
    "x = datetime.datetime(2020, 5, 17)\n",
    "\n",
    "print(x)"
   ]
  },
  {
   "cell_type": "code",
   "execution_count": null,
   "metadata": {},
   "outputs": [],
   "source": [
    "x = datetime.datetime(2018, 6, 1)\n",
    "\n",
    "print(x.strftime(\"%A\"))"
   ]
  },
  {
   "cell_type": "markdown",
   "metadata": {},
   "source": [
    "%a\tWeekday, short version\tWed\t\n",
    "%A\tWeekday, full version\tWednesday\t\n",
    "%w\tWeekday as a number 0-6, 0 is Sunday\t3\t\n",
    "%d\tDay of month 01-31\t31\t\n",
    "%b\tMonth name, short version\tDec\t\n",
    "%B\tMonth name, full version\tDecember\t\n",
    "%m\tMonth as a number 01-12\t12\t\n",
    "%y\tYear, short version, without century\t18\t\n",
    "%Y\tYear, full version\t2018\t\n",
    "%H\tHour 00-23\t17\t\n",
    "%I\tHour 00-12\t05\t\n",
    "%p\tAM/PM\tPM\t\n",
    "%M\tMinute 00-59\t41\t\n",
    "%S\tSecond 00-59\t08\t\n",
    "%f\tMicrosecond 000000-999999\t548513\t\n",
    "%z\tUTC offset\t+0100\t\n",
    "%Z\tTimezone\tCST\t\n",
    "%j\tDay number of year 001-366\t365\t\n",
    "%U\tWeek number of year, Sunday as the first day of week, 00-53\t52\t\n",
    "%W\tWeek number of year, Monday as the first day of week, 00-53\t52\t\n",
    "%c\tLocal version of date and time\tMon Dec 31 17:41:00 2018\t\n",
    "%C\tCentury\t20\t\n",
    "%x\tLocal version of date\t12/31/18\t\n",
    "%X\tLocal version of time\t17:41:00\t\n",
    "%%\tA % character\t%\t\n",
    "%G\tISO 8601 year\t2018\t\n",
    "%u\tISO 8601 weekday (1-7)\t1\t\n",
    "%V\tISO 8601 weeknumber (01-53)\t01"
   ]
  },
  {
   "cell_type": "code",
   "execution_count": 6,
   "metadata": {},
   "outputs": [
    {
     "name": "stdout",
     "output_type": "stream",
     "text": [
      "Set hour: 5\n",
      "Set minutes: 17\n",
      "am or pm? pm\n",
      "Waiting for time: 5:17 pm\n",
      "\n",
      "It's the time!\n"
     ]
    }
   ],
   "source": [
    "import datetime\n",
    "import winsound  # exclusively for windows only,\n",
    "# if you are on any other system you can use 'playsound' or 'simpleaudio' module.\n",
    "\n",
    "alarm_hour = int(input(\"Set hour: \"))\n",
    "alarm_minutes = int(input(\"Set minutes: \"))\n",
    "am_pm = input(\"am or pm? \")\n",
    "\n",
    "print(f\"Waiting for time: {alarm_hour}:{alarm_minutes} {am_pm}\")\n",
    "\n",
    "# time conversion\n",
    "# because datetime module returns time in military form i.e. 24 hrs format\n",
    "if am_pm == 'pm':  # to convert pm to military time\n",
    "    alarm_hour += 12\n",
    "\n",
    "elif alarm_hour == 12 and am_pm == 'am':  # to convert 12am to military time\n",
    "    alarm_hour -= 12\n",
    "\n",
    "else:\n",
    "    pass\n",
    "\n",
    "while True:  # infinite loop starts to make the program running until time matches alarm time\n",
    "\n",
    "    # ringing alarm + execution condition for alarm\n",
    "    if alarm_hour == datetime.datetime.now().hour and alarm_minutes == datetime.datetime.now().minute:\n",
    "\n",
    "        print(\"\\nIt's the time!\")\n",
    "        winsound.Beep(1000, 1000)\n",
    "        break"
   ]
  },
  {
   "cell_type": "code",
   "execution_count": 1,
   "metadata": {},
   "outputs": [],
   "source": [
    "import datetime\n",
    "import os\n",
    "import time\n",
    "\n",
    "# now = datetime.datetime.now()\n",
    "\n",
    "# Choose 6PM today as the time the alarm fires.\n",
    "# This won't work well if it's after 6PM, though.\n",
    "# alarm_time = datetime.datetime.combine(now.date(), datetime.time(18, 0, 0))\n",
    "\n",
    "# Think of time.sleep() as having the operating system set an alarm for you,\n",
    "# and waking you up when the alarm fires.\n",
    "# time.sleep((alarm_time - now).total_seconds())\n",
    "\n",
    "# os.system(\"start BTS_House_Of_Cards.mp3\")"
   ]
  },
  {
   "cell_type": "code",
   "execution_count": 21,
   "metadata": {},
   "outputs": [
    {
     "name": "stdout",
     "output_type": "stream",
     "text": [
      "-1 day, 23:58:00\n",
      "<class 'datetime.timedelta'>\n"
     ]
    }
   ],
   "source": [
    "dt1 = datetime.datetime(2022,12,11,16,50,1) \n",
    "dt2 = datetime.datetime(2022,12,11,16,48,1) \n",
    "tdelta = dt2 - dt1 \n",
    "print(tdelta) \n",
    "print(type(tdelta)) "
   ]
  },
  {
   "cell_type": "code",
   "execution_count": 22,
   "metadata": {},
   "outputs": [
    {
     "name": "stdout",
     "output_type": "stream",
     "text": [
      "Your birthday is in 0:02:00\n"
     ]
    }
   ],
   "source": [
    "time_diff = dt1 - dt2\n",
    "print(f\"Your birthday is in {time_diff}\")"
   ]
  },
  {
   "cell_type": "code",
   "execution_count": 23,
   "metadata": {},
   "outputs": [
    {
     "name": "stdout",
     "output_type": "stream",
     "text": [
      "0\n"
     ]
    }
   ],
   "source": [
    "tdays = time_diff.days\n",
    "print(tdays)"
   ]
  },
  {
   "cell_type": "code",
   "execution_count": 25,
   "metadata": {},
   "outputs": [
    {
     "name": "stdout",
     "output_type": "stream",
     "text": [
      "Your birthday is 120.0 seconds away.\n"
     ]
    }
   ],
   "source": [
    "tsecs = time_diff.total_seconds()\n",
    "print(f\"Your birthday is {tsecs} seconds away.\")"
   ]
  },
  {
   "cell_type": "code",
   "execution_count": null,
   "metadata": {},
   "outputs": [],
   "source": [
    "from tqdm import \n",
    "while(True):\n",
    "    dt1 = datetime.datetime.now() \n",
    "    dt2 = datetime.datetime(2022,12,11,17,58,12) \n",
    "    time_diff = dt2-dt1\n",
    "    tsecs = time_diff.total_seconds()\n",
    "    time.sleep(5)\n",
    "    print(\"seconds are remaining\",tsecs)\n",
    "    if tsecs==0:\n",
    "        break"
   ]
  },
  {
   "cell_type": "code",
   "execution_count": null,
   "metadata": {},
   "outputs": [],
   "source": [
    "!pip install tqdm"
   ]
  },
  {
   "cell_type": "code",
   "execution_count": null,
   "metadata": {},
   "outputs": [],
   "source": []
  }
 ],
 "metadata": {
  "kernelspec": {
   "display_name": "Python 3",
   "language": "python",
   "name": "python3"
  },
  "language_info": {
   "codemirror_mode": {
    "name": "ipython",
    "version": 3
   },
   "file_extension": ".py",
   "mimetype": "text/x-python",
   "name": "python",
   "nbconvert_exporter": "python",
   "pygments_lexer": "ipython3",
   "version": "3.8.5"
  }
 },
 "nbformat": 4,
 "nbformat_minor": 4
}
