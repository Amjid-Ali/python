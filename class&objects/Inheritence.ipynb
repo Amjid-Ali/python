{
 "cells": [
  {
   "cell_type": "markdown",
   "metadata": {},
   "source": [
    "## inheritence\n",
    "One of the core concepts in object-oriented programming (OOP) languages is inheritance. It is a mechanism that allows you to create a hierarchy of classes that share a set of properties and methods by deriving a class from another class. Inheritance is the capability of one class to derive or inherit the properties from another class."
   ]
  },
  {
   "cell_type": "markdown",
   "metadata": {},
   "source": [
    "## Benefits of inheritance are: \n",
    "- It represents real-world relationships well.\n",
    "- It provides the reusability of a code. We don’t have to write the same code again and again. Also, it allows us to add more features to a class without modifying it.\n",
    "- It is transitive in nature, which means that if class B inherits from another class A, then all the subclasses of B would automatically inherit from class A.\n",
    "- Inheritance offers a simple, understandable model structure. \n",
    "- Less development and maintenance expenses result from an inheritance. "
   ]
  },
  {
   "cell_type": "code",
   "execution_count": null,
   "metadata": {},
   "outputs": [],
   "source": [
    "Class BaseClass:\n",
    "    {Body}\n",
    "Class DerivedClass(BaseClass):\n",
    "    {Body}"
   ]
  },
  {
   "cell_type": "code",
   "execution_count": null,
   "metadata": {},
   "outputs": [],
   "source": [
    "class Person(object):\n",
    "    def __init__(self,name,id):\n",
    "        self.name=name\n",
    "        self.id=id\n",
    "    def show(self):\n",
    "        return self.name"
   ]
  },
  {
   "cell_type": "code",
   "execution_count": null,
   "metadata": {},
   "outputs": [],
   "source": [
    "class child(Person):\n",
    "    pass"
   ]
  },
  {
   "cell_type": "code",
   "execution_count": null,
   "metadata": {},
   "outputs": [],
   "source": [
    "cc=child(\"child_ali\",11)"
   ]
  },
  {
   "cell_type": "code",
   "execution_count": null,
   "metadata": {},
   "outputs": [],
   "source": [
    "class Teacher:\n",
    "    def __init__(self,name,id,salary=None):\n",
    "        self.name=name\n",
    "        self.id=id\n",
    "    def isTeacher(self):\n",
    "        return True\n",
    "class Student(Teacher):\n",
    "    def isTeacher(self):\n",
    "        return False"
   ]
  },
  {
   "cell_type": "code",
   "execution_count": null,
   "metadata": {},
   "outputs": [],
   "source": [
    "# teacher1=Teacher(\"ali\",11)\n",
    "# teacher1.isTeacher()"
   ]
  },
  {
   "cell_type": "code",
   "execution_count": null,
   "metadata": {},
   "outputs": [],
   "source": [
    "# studnet1.isTeacher()\n",
    "\n",
    "# teacher1=Teacher(\"khan\",22)"
   ]
  },
  {
   "cell_type": "code",
   "execution_count": null,
   "metadata": {},
   "outputs": [],
   "source": [
    "class Person(object):\n",
    "\t# Constructor\n",
    "\tdef __init__(self, name):\n",
    "\t\tself.name = name\n",
    "\t# To get name\n",
    "\tdef getName(self):\n",
    "\t\treturn self.name\n",
    "\t# To check if this person is an employee\n",
    "\tdef isEmployee(self):\n",
    "\t\treturn False\n",
    "# Inherited or Subclass (Note Person in bracket)\n",
    "class Employee(Person):\n",
    "\t# Here we return true\n",
    "\tdef isEmployee(self):\n",
    "\t\treturn True\n",
    "# # Driver code\n",
    "emp = Person(\"Geek1\") # An Object of Person\n",
    "print(emp.getName(), emp.isEmployee())\n",
    "emp = Employee(\"Geek2\") # An Object of Employee\n",
    "print(emp.getName(), emp.isEmployee())"
   ]
  },
  {
   "cell_type": "code",
   "execution_count": null,
   "metadata": {},
   "outputs": [],
   "source": [
    "# Python code to demonstrate how parent constructors\n",
    "# are called.\n",
    "# parent class\n",
    "class Person(object):\n",
    "\t# __init__ is known as the constructor\n",
    "\tdef __init__(self, name, idnumber):\n",
    "\t\tself.name = name\n",
    "\t\tself.idnumber = idnumber\n",
    "\tdef display(self):\n",
    "\t\tprint(self.name)\n",
    "\t\tprint(self.idnumber)\n",
    "# child class\n",
    "class Employee(Person):\n",
    "\tdef __init__(self, name, idnumber, salary, post):\n",
    "\t\tself.salary = salary\n",
    "\t\tself.post = post\n",
    "\n",
    "\t\t# invoking the __init__ of the parent class\n",
    "\t\tPerson.__init__(self, name, idnumber)\n",
    "# creation of an object variable or an instance\n",
    "a = Employee('Rahul', 886012, 200000, \"Intern\")\n",
    "# calling a function of the class Person using its instance\n",
    "a.display()"
   ]
  },
  {
   "cell_type": "code",
   "execution_count": null,
   "metadata": {},
   "outputs": [],
   "source": [
    "class Person(object):\n",
    "    def __init__(self, name, id):\n",
    "        self.name=name\n",
    "        self.id=id\n",
    "    def display(self):\n",
    "        return self.name, self.id"
   ]
  },
  {
   "cell_type": "code",
   "execution_count": null,
   "metadata": {},
   "outputs": [],
   "source": [
    "class Person1(Person):\n",
    "    def __init__(self, name, id,salary ,post):\n",
    "        self.salary=salary\n",
    "        self.post=post\n",
    "        Person.__init__(self,name,id)"
   ]
  },
  {
   "cell_type": "code",
   "execution_count": null,
   "metadata": {},
   "outputs": [],
   "source": [
    "check=Person1(\"khan\",11,1200,\"yes\")"
   ]
  },
  {
   "cell_type": "code",
   "execution_count": null,
   "metadata": {},
   "outputs": [],
   "source": [
    "check.display()"
   ]
  },
  {
   "cell_type": "code",
   "execution_count": null,
   "metadata": {},
   "outputs": [],
   "source": [
    "class A:\n",
    "\tdef __init__(self, n='Rahul'):\n",
    "\t\tself.name = n\n",
    "class B(A):\n",
    "\tdef __init__(self,name, roll):\n",
    "\t\tself.roll = roll\n",
    "\t\tA.__init__(self,name)\n",
    "object = B(\"kor kor sb\",23)\n",
    "print(object.name)"
   ]
  },
  {
   "cell_type": "code",
   "execution_count": null,
   "metadata": {},
   "outputs": [],
   "source": [
    "class A:\n",
    "    def __init__(self,name):\n",
    "        self.name=name\n",
    "    def display(self):\n",
    "        return self.name\n",
    "class B(A):\n",
    "    def __init__(self, name,id_number):\n",
    "        A.__init__(self,name)\n",
    "    def info(self):\n",
    "        print(\"this is here\")"
   ]
  },
  {
   "cell_type": "code",
   "execution_count": null,
   "metadata": {},
   "outputs": [],
   "source": [
    "b=A(\"alikhan\")"
   ]
  },
  {
   "cell_type": "code",
   "execution_count": null,
   "metadata": {},
   "outputs": [],
   "source": [
    "# b.display()"
   ]
  },
  {
   "cell_type": "markdown",
   "metadata": {},
   "source": [
    "# Different types of Inheritance:\n",
    "- Single inheritance: When a child class inherits from only one parent class, it is called single inheritance. We saw an example above.\n",
    "- Multiple inheritances: When a child class inherits from multiple parent classes, it is called multiple inheritances. "
   ]
  },
  {
   "cell_type": "markdown",
   "metadata": {},
   "source": [
    "# Single Inheritance: \n",
    "Single inheritance enables a derived class to inherit properties from a single parent class, thus enabling code reusability and the addition of new features to existing code"
   ]
  },
  {
   "cell_type": "code",
   "execution_count": null,
   "metadata": {},
   "outputs": [],
   "source": [
    "class Teacher(object):\n",
    "    def __init__(self,name,id):\n",
    "        self.name=name\n",
    "        self.id=id\n",
    "    def info(self):\n",
    "        return self.name, self.id\n",
    "    def func(self):\n",
    "        print(\"i am calleed\")\n",
    "    def isTeacher(self):\n",
    "        return True\n",
    "class Student(Teacher):\n",
    "    def isTeacher(self):\n",
    "        return False"
   ]
  },
  {
   "cell_type": "code",
   "execution_count": null,
   "metadata": {},
   "outputs": [],
   "source": [
    "studnet1=Student(\"student1\",12)"
   ]
  },
  {
   "cell_type": "markdown",
   "metadata": {},
   "source": [
    "# Multiple Inheritance: \n",
    "When a class can be derived from more than one base class this type of inheritance is called multiple inheritances. In multiple inheritances, all the features of the base classes are inherited into the derived class. "
   ]
  },
  {
   "cell_type": "code",
   "execution_count": null,
   "metadata": {},
   "outputs": [],
   "source": [
    "class Mother:\n",
    "    def __init__(self,m_name):\n",
    "        self.mother_name=m_name\n",
    "class Father:\n",
    "    def __init__(self,f_name):\n",
    "        self.father_name=f_name"
   ]
  },
  {
   "cell_type": "code",
   "execution_count": null,
   "metadata": {},
   "outputs": [],
   "source": [
    "# class Son(Father,Mother):\n",
    "#     son_name=\"khan\"\n",
    "#     def parents(self):\n",
    "#         return self.father_name\n",
    "\n",
    "\n",
    "class Son(Father, Mother):\n",
    "    def __init__(self,f_name,m_name):\n",
    "        Father.__init__(self,f_name)\n",
    "        Mother.__init__(self,m_name)\n",
    "    def parents(self):\n",
    "        return self.father_name, self.mother_name\n"
   ]
  },
  {
   "cell_type": "code",
   "execution_count": null,
   "metadata": {},
   "outputs": [],
   "source": [
    "son_obj=Son(\"romaisa\",\"khan\")"
   ]
  },
  {
   "cell_type": "code",
   "execution_count": null,
   "metadata": {},
   "outputs": [],
   "source": [
    "son_obj.parents()"
   ]
  },
  {
   "cell_type": "markdown",
   "metadata": {},
   "source": [
    "# Multilevel Inheritance :\n",
    "In multilevel inheritance, features of the base class and the derived class are further inherited into the new derived class. This is similar to a relationship representing a child and a grandfather. "
   ]
  },
  {
   "cell_type": "code",
   "execution_count": null,
   "metadata": {},
   "outputs": [],
   "source": [
    "class GrandFather:\n",
    "    def __init__(self,grand_father_name):\n",
    "        self.grand_father_name=grand_father_name\n",
    "class Father(GrandFather):\n",
    "    def __init__(self,father_name, grand_father_name):\n",
    "        self.father_name=father_name\n",
    "        GrandFather.__init__(self,grand_father_name)\n",
    "class Son(Father):\n",
    "    def __init__(self, son, father_name, grand_father_name):\n",
    "        self.son_name=son\n",
    "        Father.__init__(self,father_name,grand_father_name)\n",
    "#         Father.__init__(self, father_name, grand_father_name)"
   ]
  },
  {
   "cell_type": "code",
   "execution_count": null,
   "metadata": {},
   "outputs": [],
   "source": [
    "son1=Son(\"ali\",\"ali father\",\"kha\")"
   ]
  },
  {
   "cell_type": "code",
   "execution_count": null,
   "metadata": {},
   "outputs": [],
   "source": [
    "print(son1.grand_father_name\n",
    ",son1.father_name\n",
    ",son1.son_name)"
   ]
  },
  {
   "cell_type": "markdown",
   "metadata": {},
   "source": [
    "# Hierarchical Inheritance: \n",
    "When more than one derived class are created from a single base this type of inheritance is called hierarchical inheritance. In this program, we have a parent (base) class and two child (derived) classes."
   ]
  },
  {
   "cell_type": "code",
   "execution_count": null,
   "metadata": {},
   "outputs": [],
   "source": [
    "# Base class\n",
    "class Parent:\n",
    "\tdef func1(self):\n",
    "\t\tprint(\"This function is in parent class.\")\n",
    "# Derived class1\n",
    "class Child1(Parent):\n",
    "\tdef func2(self):\n",
    "\t\tprint(\"This function is in child 1.\")\n",
    "# Derivied class2\n",
    "class Child2(Parent):\n",
    "\tdef func3(self):\n",
    "\t\tprint(\"This function is in child 2.\")"
   ]
  },
  {
   "cell_type": "code",
   "execution_count": null,
   "metadata": {},
   "outputs": [],
   "source": [
    "# base_parent=Parent()\n",
    "\n",
    "child=Child1()"
   ]
  },
  {
   "cell_type": "code",
   "execution_count": null,
   "metadata": {},
   "outputs": [],
   "source": [
    "third_child=Child2()"
   ]
  },
  {
   "cell_type": "code",
   "execution_count": null,
   "metadata": {},
   "outputs": [],
   "source": [
    "third_chidl.func3()"
   ]
  },
  {
   "cell_type": "markdown",
   "metadata": {},
   "source": [
    "# Hybrid Inheritance: \n",
    "Inheritance consisting of multiple types of inheritance is called hybrid inheritance."
   ]
  },
  {
   "cell_type": "code",
   "execution_count": null,
   "metadata": {},
   "outputs": [],
   "source": [
    "\n",
    "class School:\n",
    "\tdef func1(self):\n",
    "\t\tprint(\"This function is in school.\")\n",
    "class Student1(School):\n",
    "\tdef func2(self):\n",
    "\t\tprint(\"This function is in student 1. \")\n",
    "class Student2(School):\n",
    "\tdef func3(self):\n",
    "\t\tprint(\"This function is in student 2.\")\n",
    "class Student3(Student1, School):\n",
    "\tdef func4(self):\n",
    "\t\tprint(\"This function is in student 3.\")\n",
    "# Driver's code\n",
    "object = Student3()\n",
    "object.func1()\n",
    "object.func2()"
   ]
  },
  {
   "cell_type": "code",
   "execution_count": null,
   "metadata": {},
   "outputs": [],
   "source": [
    "class check(Student3):\n",
    "    def display(self):\n",
    "        return \"this is here in the check\"\n",
    "# c=check()"
   ]
  },
  {
   "cell_type": "markdown",
   "metadata": {},
   "source": [
    "# \n",
    "In this article, Inheritance is introduced.\n",
    "One of the major advantages of Object Oriented Programming is re-use. Inheritance is one of the mechanisms to achieve the same. In inheritance, a class (usually called superclass) is inherited by another class (usually called subclass). The subclass adds some attributes to superclass"
   ]
  },
  {
   "cell_type": "markdown",
   "metadata": {},
   "source": [
    "# How to check if a class is subclass of another?\n",
    "Python provides a function issubclass() that directly tells us if a class is subclass of another class."
   ]
  },
  {
   "cell_type": "code",
   "execution_count": null,
   "metadata": {},
   "outputs": [],
   "source": [
    "# Python example to check if a class is\n",
    "# subclass of another\n",
    "\n",
    "class Base(object):\n",
    "\tpass # Empty Class\n",
    "\n",
    "class Derived(Base):\n",
    "\tpass # Empty Class\n",
    "\n",
    "# Driver Code\n",
    "print(issubclass(Derived, Base))\n",
    "print(issubclass(Base, Derived))\n",
    "\n",
    "d = Derived()\n",
    "b = Base()\n",
    "\n",
    "# b is not an instance of Derived\n",
    "print(isinstance(b, Derived))\n",
    "\n",
    "# But d is an instance of Base\n",
    "print(isinstance(d, Base))\n"
   ]
  },
  {
   "cell_type": "code",
   "execution_count": 1,
   "metadata": {},
   "outputs": [],
   "source": [
    "class Base(object):pass\n",
    "class Dervied(Base):pass"
   ]
  },
  {
   "cell_type": "code",
   "execution_count": 3,
   "metadata": {},
   "outputs": [
    {
     "name": "stdout",
     "output_type": "stream",
     "text": [
      "True\n"
     ]
    }
   ],
   "source": [
    "print(issubclass(Dervied,Base))"
   ]
  },
  {
   "cell_type": "code",
   "execution_count": 4,
   "metadata": {},
   "outputs": [
    {
     "name": "stdout",
     "output_type": "stream",
     "text": [
      "False\n"
     ]
    }
   ],
   "source": [
    "print(issubclass(Base,Dervied))"
   ]
  },
  {
   "cell_type": "markdown",
   "metadata": {},
   "source": [
    "# How to access parent members in a subclass?\n",
    "\n",
    "1) Using Parent class name"
   ]
  },
  {
   "cell_type": "code",
   "execution_count": 24,
   "metadata": {},
   "outputs": [],
   "source": [
    "# class Base:\n",
    "#     def __init__(self,name):\n",
    "#         self.name=name\n",
    "# class Dervied(Base):\n",
    "#     def __init__(self,name, id):\n",
    "#         self.id=id\n",
    "#         Base.__init__(self,name)\n",
    "        \n",
    "### or\n",
    "class Base:\n",
    "    def __init__(self,name):\n",
    "        self.name=name\n",
    "class Dervied(Base):\n",
    "    def __init__(self,name, id):\n",
    "        Base.name=name\n",
    "        self.id=id\n",
    "    def show(self):\n",
    "        return self.name, self.id,Base.name"
   ]
  },
  {
   "cell_type": "code",
   "execution_count": 25,
   "metadata": {},
   "outputs": [],
   "source": [
    "d=Dervied(\"king khan\",12)"
   ]
  },
  {
   "cell_type": "markdown",
   "metadata": {},
   "source": [
    "#  Using super()\n",
    "2- We can also access parent class members using super."
   ]
  },
  {
   "cell_type": "code",
   "execution_count": 1,
   "metadata": {},
   "outputs": [],
   "source": [
    "class Base:\n",
    "    def __init__(self,name):\n",
    "        self.name=name\n",
    "class Dervied(Base):\n",
    "    def __init__(self,name, id):\n",
    "        super(Dervied,self).__init__(name)\n",
    "        self.id=id"
   ]
  },
  {
   "cell_type": "code",
   "execution_count": 3,
   "metadata": {},
   "outputs": [],
   "source": [
    "d=Dervied(\"khan\",12)"
   ]
  },
  {
   "cell_type": "code",
   "execution_count": null,
   "metadata": {},
   "outputs": [],
   "source": []
  },
  {
   "cell_type": "markdown",
   "metadata": {},
   "source": [
    "#\n",
    "At a fairly abstract level, super() provides the access to those methods of the super-class (parent class) which have been overridden in a sub-class (child class) that inherits from it. Consider the code example given below, here we have a class named Square and an another class named Cube which inherits the class Square"
   ]
  },
  {
   "cell_type": "code",
   "execution_count": 33,
   "metadata": {},
   "outputs": [],
   "source": [
    "class Square:\n",
    "\tdef __init__(self, side):\n",
    "\t\tself.side = side\n",
    "\tdef area(self):\n",
    "\t\treturn self.side * self.side\n",
    "\n",
    "class Cube(Square):\n",
    "\tdef area(self):\n",
    "\t\tface_area = self.side * self.side\n",
    "\t\treturn face_area * 6\n",
    "\n",
    "\tdef volume(self):\n",
    "\t\tface_area = self.side * self.side\n",
    "\t\treturn face_area * self.side"
   ]
  },
  {
   "cell_type": "code",
   "execution_count": 42,
   "metadata": {},
   "outputs": [
    {
     "data": {
      "text/plain": [
       "8"
      ]
     },
     "execution_count": 42,
     "metadata": {},
     "output_type": "execute_result"
    }
   ],
   "source": [
    "cube=Cube(2)\n",
    "# cube.area()\n",
    "cube.volume()"
   ]
  },
  {
   "cell_type": "code",
   "execution_count": 43,
   "metadata": {},
   "outputs": [],
   "source": [
    "class Cube(Square):\n",
    "\tdef area(self):\n",
    "\t\treturn super().area() * 6\n",
    "\n",
    "\tdef volume(self):\n",
    "\t\treturn super().area() * self.side()"
   ]
  },
  {
   "cell_type": "code",
   "execution_count": 53,
   "metadata": {},
   "outputs": [],
   "source": [
    "class Square:\n",
    "\tdef __init__(self):\n",
    "\t\tpass\n",
    "\n",
    "class SquarePrism(Square):\n",
    "\tdef __init__(self):\n",
    "\t\tpass\n",
    "\n",
    "class Cube(SquarePrism):\n",
    "\tdef __init__(self):\n",
    "\t\tpass\n",
    "\n",
    "square = Square()\n",
    "squareprism = SquarePrism()\n",
    "cube = Cube()\n",
    "# print(isinstance(squareprism, Square))\n",
    "# print(isinstance(cube, Square))"
   ]
  },
  {
   "cell_type": "code",
   "execution_count": 62,
   "metadata": {},
   "outputs": [
    {
     "data": {
      "text/plain": [
       "True"
      ]
     },
     "execution_count": 62,
     "metadata": {},
     "output_type": "execute_result"
    }
   ],
   "source": [
    "isinstance(cube,SquarePrism)"
   ]
  },
  {
   "cell_type": "code",
   "execution_count": 68,
   "metadata": {},
   "outputs": [],
   "source": [
    "# parent class also sometime called the super class\n",
    "class Parentclass():\n",
    "\tdef __init__(self):\n",
    "\t\tpass\n",
    "# derived or subclass\n",
    "# initialize the parent or base class within the subclass\n",
    "class subclass(Parentclass):\n",
    "\tdef __init__(self):\n",
    "\t\t# calling super() function to make process easier\n",
    "\t\tprint(super())"
   ]
  },
  {
   "cell_type": "code",
   "execution_count": 69,
   "metadata": {},
   "outputs": [
    {
     "name": "stdout",
     "output_type": "stream",
     "text": [
      "<super: <class 'subclass'>, <subclass object>>\n"
     ]
    }
   ],
   "source": [
    "sub=subclass()"
   ]
  },
  {
   "cell_type": "code",
   "execution_count": 70,
   "metadata": {},
   "outputs": [
    {
     "name": "stdout",
     "output_type": "stream",
     "text": [
      "HEY !!!!!! GfG I am initialised(Class GEG3)\n",
      "HEY !!!!!! GfG I am initialised(Class GEG2)\n",
      "HEY !!!!!! GfG I am initialised(Class GEG1)\n",
      "Printing from class GFG3: 10\n",
      "Printing from class GFG2: 11\n",
      "Printing from class GFG1: 12\n"
     ]
    }
   ],
   "source": [
    "# Program to define the use of super()\n",
    "# function in multiple inheritance\n",
    "class GFG1:\n",
    "\tdef __init__(self):\n",
    "\t\tprint('HEY !!!!!! GfG I am initialised(Class GEG1)')\n",
    "\tdef sub_GFG(self, b):\n",
    "\t\tprint('Printing from class GFG1:', b)\n",
    "# class GFG2 inherits the GFG1\n",
    "class GFG2(GFG1):\n",
    "\tdef __init__(self):\n",
    "\t\tprint('HEY !!!!!! GfG I am initialised(Class GEG2)')\n",
    "\t\tsuper().__init__()\n",
    "\tdef sub_GFG(self, b):\n",
    "\t\tprint('Printing from class GFG2:', b)\n",
    "\t\tsuper().sub_GFG(b + 1)\n",
    "# class GFG3 inherits the GFG1 ang GFG2 both\n",
    "class GFG3(GFG2):\n",
    "\tdef __init__(self):\n",
    "\t\tprint('HEY !!!!!! GfG I am initialised(Class GEG3)')\n",
    "\t\tsuper().__init__()\n",
    "\tdef sub_GFG(self, b):\n",
    "\t\tprint('Printing from class GFG3:', b)\n",
    "\t\tsuper().sub_GFG(b + 1)\n",
    "# main function\n",
    "if __name__ == '__main__':\n",
    "\t# created the object gfg\n",
    "\tgfg = GFG3()\n",
    "\t# calling the function sub_GFG3() from class GHG3\n",
    "\t# which inherits both GFG1 and GFG2 classes\n",
    "\tgfg.sub_GFG(10)"
   ]
  },
  {
   "cell_type": "markdown",
   "metadata": {},
   "source": [
    "# inner class "
   ]
  },
  {
   "cell_type": "code",
   "execution_count": 71,
   "metadata": {},
   "outputs": [
    {
     "name": "stdout",
     "output_type": "stream",
     "text": [
      "NAME =  AKASH\n",
      "DOB = 10/3/2000\n"
     ]
    }
   ],
   "source": [
    "class person:\n",
    "\tdef __init__(self):\n",
    "\t\tself.name = 'AKASH'\n",
    "\t\tself.db = self.Dob()\n",
    "\t\t\n",
    "\tdef display(self):\n",
    "\t\tprint('NAME = ', self.name)\n",
    "\t\t\n",
    "\t# this is inner class\n",
    "\tclass Dob:\n",
    "\t\tdef __init__(self):\n",
    "\t\t\tself.dd = 10\n",
    "\t\t\tself.mm = 3\n",
    "\t\t\tself.yy = 2000\n",
    "\t\tdef display(self):\n",
    "\t\t\tprint('DOB = {}/{}/{}'.format(self.dd, self.mm, self.yy))\n",
    "\t\t\t\n",
    "# creating person class object\n",
    "p = person()\n",
    "p.display()\n",
    "\n",
    "# create inner class object\n",
    "x = p.db\n",
    "x.display()"
   ]
  },
  {
   "cell_type": "code",
   "execution_count": 73,
   "metadata": {},
   "outputs": [
    {
     "name": "stdout",
     "output_type": "stream",
     "text": [
      "NAME =  AKASH\n"
     ]
    }
   ],
   "source": [
    "p=person()\n",
    "p.display()"
   ]
  },
  {
   "cell_type": "code",
   "execution_count": 76,
   "metadata": {},
   "outputs": [
    {
     "name": "stdout",
     "output_type": "stream",
     "text": [
      "DOB = 10/3/2000\n"
     ]
    }
   ],
   "source": [
    "# pd=p.db\n",
    "pd.display()"
   ]
  },
  {
   "cell_type": "markdown",
   "metadata": {},
   "source": [
    "# inheritence in inner class"
   ]
  },
  {
   "cell_type": "code",
   "execution_count": 77,
   "metadata": {},
   "outputs": [
    {
     "name": "stdout",
     "output_type": "stream",
     "text": [
      "In Child Class\n",
      "In Parent Class\n",
      "Inner Of Parent Class\n",
      "Inner Of Child Class\n"
     ]
    }
   ],
   "source": [
    "class A:\n",
    "\tdef __init__(self):\n",
    "\t\tself.db = self.Inner()\n",
    "\t\t\n",
    "\tdef display(self):\n",
    "\t\tprint('In Parent Class')\n",
    "\t\t\n",
    "\t# this is inner class\n",
    "\tclass Inner:\n",
    "\t\t\t\n",
    "\t\tdef display1(self):\n",
    "\t\t\tprint('Inner Of Parent Class')\n",
    "\t\t\t\n",
    "\t\t\t\n",
    "class B(A):\n",
    "\tdef __init__(self):\n",
    "\t\tprint('In Child Class')\n",
    "\t\tsuper().__init__()\n",
    "\t\t\n",
    "\tclass Inner(A.Inner):\n",
    "\t\t\n",
    "\t\tdef display2(self):\n",
    "\t\t\tprint('Inner Of Child Class')\n",
    "\t\t\t\n",
    "# creating child class object\n",
    "p = B()\n",
    "p.display()\n",
    "\n",
    "# create inner class object\n",
    "x = p.db\n",
    "x.display1()\n",
    "x.display2()\n"
   ]
  },
  {
   "cell_type": "markdown",
   "metadata": {},
   "source": [
    "# conditional inheritience"
   ]
  },
  {
   "cell_type": "markdown",
   "metadata": {},
   "source": [
    "t happens most of the time that given a condition we need to decide whether a particular class should inherit a class or not, for example given a person, if he/she is eligible for an admission in a university only then they should be a student otherwise they should not be a student.\n",
    "\n",
    "Let’s consider an example, where given a condition, we want a class (say C) to dynamically inherit from either class A or class B. We need to create two different classes C_A and C_B, which inherit from A and B respectively, However if the conditional inheritance is to either inherit or not based on a condition then we can use a different approach as discussed below"
   ]
  },
  {
   "cell_type": "code",
   "execution_count": 79,
   "metadata": {},
   "outputs": [],
   "source": [
    "class A(object):\n",
    "\tdef __init__(self, x):\n",
    "\t\tself.x = x\n",
    "\tdef getX(self):\n",
    "\t\treturn self.X\n",
    "class B(object):\n",
    "\tdef __init__(self, x, y):\n",
    "\t\tself.x = x\n",
    "\t\tself.y = y\n",
    "\tdef getSum(self):\n",
    "\t\treturn self.X + self.y\n",
    "# inherits from A\n",
    "class C_A(A):\n",
    "\tdef isA(self):\n",
    "\t\treturn True\n",
    "\tdef isB(self):\n",
    "\t\treturn False\n",
    "# inherits from B\n",
    "class C_B(B):\n",
    "\tdef isA(self):\n",
    "\t\treturn False\n",
    "\tdef isB(self):\n",
    "\t\treturn True\n",
    "# return required Object of C based on cond\n",
    "def getC(cond):\n",
    "\tif cond:\n",
    "\t\treturn C_A(1)\n",
    "\telse:\n",
    "\t\treturn C_B(1,2)"
   ]
  },
  {
   "cell_type": "code",
   "execution_count": 80,
   "metadata": {},
   "outputs": [
    {
     "name": "stdout",
     "output_type": "stream",
     "text": [
      "True\n",
      "False\n",
      "False\n",
      "True\n"
     ]
    }
   ],
   "source": [
    "\n",
    "# Object of C_A\n",
    "ca = getC(True)\n",
    "print(ca.isA())\n",
    "print(ca.isB())\n",
    "\t\n",
    "# Object of C_B\n",
    "cb = getC(False)\n",
    "print(cb.isA())\n",
    "print(cb.isB())\n"
   ]
  },
  {
   "cell_type": "code",
   "execution_count": 85,
   "metadata": {},
   "outputs": [],
   "source": [
    "class A:\n",
    "    def __init__(self,x,y):\n",
    "        self.x=x\n",
    "        self.y=y\n",
    "class B:\n",
    "    def __init__(self,x):\n",
    "        self.x=x\n",
    "def cond(cond):return b"
   ]
  },
  {
   "cell_type": "code",
   "execution_count": null,
   "metadata": {},
   "outputs": [],
   "source": []
  },
  {
   "cell_type": "code",
   "execution_count": null,
   "metadata": {},
   "outputs": [],
   "source": []
  },
  {
   "cell_type": "code",
   "execution_count": null,
   "metadata": {},
   "outputs": [],
   "source": []
  }
 ],
 "metadata": {
  "kernelspec": {
   "display_name": "Python 3",
   "language": "python",
   "name": "python3"
  },
  "language_info": {
   "codemirror_mode": {
    "name": "ipython",
    "version": 3
   },
   "file_extension": ".py",
   "mimetype": "text/x-python",
   "name": "python",
   "nbconvert_exporter": "python",
   "pygments_lexer": "ipython3",
   "version": "3.8.5"
  }
 },
 "nbformat": 4,
 "nbformat_minor": 4
}
